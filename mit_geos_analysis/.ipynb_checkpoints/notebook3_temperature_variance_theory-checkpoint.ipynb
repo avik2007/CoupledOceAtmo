{
 "cells": [
  {
   "cell_type": "markdown",
   "id": "6081a8fa-f493-4fed-8172-670fc842e919",
   "metadata": {},
   "source": [
    "In this notebook, I'm going to start thinking about the equations I'm trying to Fourier transform into wavenumber and frequency space so that I know which variables I have to be able to access from llc1440_c2160. Much of this will probably be copied straight from Paige's own files - I'll supplement with my conclusions about what the equations mean for my data analysis."
   ]
  },
  {
   "cell_type": "markdown",
   "id": "065aadd4-7127-4f34-abbf-49d5f42625bb",
   "metadata": {},
   "source": [
    "Note: I have figured out how to pull data directly from Pleiades with Hectors MITgcm scripts. I have to figure out when his GEOS scripts will be ready as that will also be an important part of the analysis. "
   ]
  },
  {
   "cell_type": "markdown",
   "id": "6ff3e4e0-c483-4aea-81f3-09dc594c0693",
   "metadata": {},
   "source": [
    "Ocean Mixed Layer Equation:"
   ]
  },
  {
   "cell_type": "markdown",
   "id": "9e6fae1d-f307-44d4-85c8-8298f4c121d7",
   "metadata": {},
   "source": [
    "$$\\frac{\\partial}{\\partial t} ({}^oT_m) + {}^o\\vec{v_m}\\cdot\\nabla ({}^oT_m) = \\frac{F_{m}^{e+}}{{}^o \\rho {}^oC_p {}^oH_m} + \\frac{F_0}{{}^o \\rho {}^oC_p {}^oH_m} +  {}^oK_2 \\nabla_H^2 {}^oT_m - {}^oK_4 \\nabla_H^4{}^oT_m$$"
   ]
  },
  {
   "cell_type": "markdown",
   "id": "8e87f9ae-2405-4e96-91eb-e50e0257d29e",
   "metadata": {},
   "source": [
    "We can take each of these terms one at a time (and will eventually drop the prescript \"o\"s:"
   ]
  },
  {
   "cell_type": "markdown",
   "id": "dc3a9423-c5ec-423a-b6c0-46e8f4ca448b",
   "metadata": {},
   "source": [
    "Advection: ${}^o\\vec{v_m}\\cdot\\nabla ({}^oT_m)$ (note that this form assumes incompressible flow)"
   ]
  },
  {
   "cell_type": "markdown",
   "id": "cea7e79b-bdec-461d-b143-79b880b64ab3",
   "metadata": {},
   "source": [
    "$${}^o\\vec{v_m}\\cdot\\nabla ({}^oT_m) = (u_m T_m)_x + (v_m T_m) - \\frac{w_{ek} T_m}{H_m}$$"
   ]
  },
  {
   "cell_type": "markdown",
   "id": "d3b5e5f8-7999-4bfc-8ca3-faa77816727f",
   "metadata": {},
   "source": [
    "where "
   ]
  },
  {
   "cell_type": "markdown",
   "id": "242b10b1-d54a-494f-b978-031668c73298",
   "metadata": {},
   "source": [
    "$$ w_{ek} = \\frac{1}{f_0} ( \\tau_{x}^{y} - \\tau_{y}^{x}) $$"
   ]
  },
  {
   "cell_type": "markdown",
   "id": "0b7570be-cffa-4ce8-aa58-39057d606c23",
   "metadata": {},
   "source": [
    "a.k.a Ekman velocity = 1/(coriolis parameter) (curl of wind stress)"
   ]
  },
  {
   "cell_type": "markdown",
   "id": "f8b51003-3e09-4e5f-a7b5-9f2261d1ed97",
   "metadata": {},
   "source": [
    "and "
   ]
  },
  {
   "cell_type": "markdown",
   "id": "a1ecbc74-522c-4b87-9f0e-4ab6af2a8360",
   "metadata": {},
   "source": [
    "$$F_0 = -F_{\\lambda} - F_{0}^{\\uparrow} - F_{m}^{\\downarrow} - F_s$$"
   ]
  },
  {
   "cell_type": "markdown",
   "id": "e12ffbdb-f171-4356-a655-a56fbc309c90",
   "metadata": {},
   "source": [
    "a.k.a heat flux (nonmixing) = sensible/latent heat flux($\\lambda$) + (upward) radiative flux + (downward) radiative flux + solar radiation"
   ]
  },
  {
   "cell_type": "markdown",
   "id": "171c4084-8963-40e8-b23f-4d97768bff1b",
   "metadata": {},
   "source": [
    "and $\\rho$ is density, $C_p$ is heat capacity at constant pressure, and $H_m$ is ocean depth mixed later. In QGCM, it sounds like the ocean mixed layer does not move too much in time - Dimitris includes it as its own .data file so I presume that it will have some fluctuations in MITgcm/GEOS."
   ]
  },
  {
   "cell_type": "markdown",
   "id": "e53dbbe2-77a1-47f6-a7fe-ca357f6c0d0e",
   "metadata": {},
   "source": [
    "Additionally, this seems to use biharmonic diffusion in addition to Laplacian diffusion. Here's a bit about diffusion from an iopscience article: (GM vs biharmonic ocean mixing in the Arctic)"
   ]
  },
  {
   "cell_type": "markdown",
   "id": "525c4fc0-3c14-4a95-b530-1fa9f2a0a438",
   "metadata": {},
   "source": [
    "\"Diffusion plays an important role in ocean models for two reasons: it dispels grid-scale noise resulting from the cascade of tracer variance and it parameterizes important sub-grid-scale fluxes.\" From other readings, it seems like biharmonic diffusion is much more active on smaller scales while being less relevant at larger scales. Using biharmonic viscosity seems to encourage \"scale selectivity.\" -- http://mitgcm.org/public/r2_manual/final/online_documents/node86.html#SECTION003211700000000000000. "
   ]
  },
  {
   "cell_type": "markdown",
   "id": "070bdf3e-61b3-412e-8b7b-e116e3485449",
   "metadata": {},
   "source": [
    "Yulin just gave a talk where this gets mentioned - so you guy with higher order diffusion so that higher wavenumbers drop out (simulates dissipation at high wavenumbers - think about it in k-space)"
   ]
  }
 ],
 "metadata": {
  "kernelspec": {
   "display_name": "Python 3",
   "language": "python",
   "name": "python3"
  },
  "language_info": {
   "codemirror_mode": {
    "name": "ipython",
    "version": 3
   },
   "file_extension": ".py",
   "mimetype": "text/x-python",
   "name": "python",
   "nbconvert_exporter": "python",
   "pygments_lexer": "ipython3",
   "version": "3.8.10"
  }
 },
 "nbformat": 4,
 "nbformat_minor": 5
}
