{
 "cells": [
  {
   "cell_type": "markdown",
   "id": "6081a8fa-f493-4fed-8172-670fc842e919",
   "metadata": {},
   "source": [
    "In this notebook, I'm going to start thinking about the equations I'm trying to Fourier transform into wavenumber and frequency space so that I know which variables I have to be able to access from llc1440_c2160. Much of this will probably be copied straight from Paige's own files - I'll supplement with my conclusions about what the equations mean for my data analysis."
   ]
  },
  {
   "cell_type": "markdown",
   "id": "065aadd4-7127-4f34-abbf-49d5f42625bb",
   "metadata": {},
   "source": [
    "Note: I have figured out how to pull data directly from Pleiades with Hectors MITgcm scripts. I have to figure out when his GEOS scripts will be ready as that will also be an important part of the analysis. "
   ]
  },
  {
   "cell_type": "markdown",
   "id": "6ff3e4e0-c483-4aea-81f3-09dc594c0693",
   "metadata": {},
   "source": [
    "Ocean Mixed Layer Equation:"
   ]
  },
  {
   "cell_type": "markdown",
   "id": "9e6fae1d-f307-44d4-85c8-8298f4c121d7",
   "metadata": {},
   "source": [
    "$$\\frac{\\partial}{\\partial t} ({}^oT_m) + {}^o\\vec{v_m}\\cdot\\nabla ({}^oT_m) = \\frac{F_{m}^{e+}}{{}^o \\rho {}^oC_p {}^oH_m} + \\frac{F_0}{{}^o \\rho {}^oC_p {}^oH_m} + {}^oK_2 \\nabla_H^2 {}^oT_m-{}^oK_4 \\nabla_H^4{}^oT_m$$"
   ]
  },
  {
   "cell_type": "markdown",
   "id": "8e87f9ae-2405-4e96-91eb-e50e0257d29e",
   "metadata": {},
   "source": [
    "We can take each of these terms one at a time (and will eventually drop the prescript \"o\"s:"
   ]
  },
  {
   "cell_type": "markdown",
   "id": "dc3a9423-c5ec-423a-b6c0-46e8f4ca448b",
   "metadata": {},
   "source": [
    "Advection: ${}^o\\vec{v_m}\\cdot\\nabla ({}^oT_m)$ (note that this form assumes incompressible flow)"
   ]
  },
  {
   "cell_type": "markdown",
   "id": "cea7e79b-bdec-461d-b143-79b880b64ab3",
   "metadata": {},
   "source": [
    "$${}^o\\vec{v_m}\\cdot\\nabla ({}^oT_m) = (u_m T_{m,x}) + (v_m T_{m, y}) - \\frac{w_{ek} T_m}{H_m}$$"
   ]
  },
  {
   "cell_type": "markdown",
   "id": "d3b5e5f8-7999-4bfc-8ca3-faa77816727f",
   "metadata": {},
   "source": [
    "where "
   ]
  },
  {
   "cell_type": "markdown",
   "id": "242b10b1-d54a-494f-b978-031668c73298",
   "metadata": {},
   "source": [
    "$$ w_{ek} = \\frac{1}{f_0} ( \\tau_{x}^{y} - \\tau_{y}^{x}) $$"
   ]
  },
  {
   "cell_type": "markdown",
   "id": "0b7570be-cffa-4ce8-aa58-39057d606c23",
   "metadata": {},
   "source": [
    "a.k.a Ekman velocity = 1/(coriolis parameter) (curl of wind stress)"
   ]
  },
  {
   "cell_type": "markdown",
   "id": "f8b51003-3e09-4e5f-a7b5-9f2261d1ed97",
   "metadata": {},
   "source": [
    "and "
   ]
  },
  {
   "cell_type": "markdown",
   "id": "a1ecbc74-522c-4b87-9f0e-4ab6af2a8360",
   "metadata": {},
   "source": [
    "$$F_0 = -F_{\\lambda} - F_{0}^{\\uparrow} - F_{m}^{\\downarrow} - F_s$$"
   ]
  },
  {
   "cell_type": "markdown",
   "id": "e12ffbdb-f171-4356-a655-a56fbc309c90",
   "metadata": {},
   "source": [
    "a.k.a heat flux (nonmixing) = sensible/latent heat flux($\\lambda$) + (upward) radiative flux + (downward) radiative flux + solar radiation"
   ]
  },
  {
   "cell_type": "markdown",
   "id": "171c4084-8963-40e8-b23f-4d97768bff1b",
   "metadata": {},
   "source": [
    "and $\\rho$ is density, $C_p$ is heat capacity at constant pressure, and $H_m$ is ocean depth mixed later. In QGCM, it sounds like the ocean mixed layer does not move too much in time - Dimitris includes it as its own .data file so I presume that it will have some fluctuations in MITgcm/GEOS."
   ]
  },
  {
   "cell_type": "markdown",
   "id": "e53dbbe2-77a1-47f6-a7fe-ca357f6c0d0e",
   "metadata": {},
   "source": [
    "Additionally, this seems to use biharmonic diffusion in addition to Laplacian diffusion. Here's a bit about diffusion from an iopscience article: (GM vs biharmonic ocean mixing in the Arctic)"
   ]
  },
  {
   "cell_type": "markdown",
   "id": "525c4fc0-3c14-4a95-b530-1fa9f2a0a438",
   "metadata": {},
   "source": [
    "\"Diffusion plays an important role in ocean models for two reasons: it dispels grid-scale noise resulting from the cascade of tracer variance and it parameterizes important sub-grid-scale fluxes.\" From other readings, it seems like biharmonic diffusion is much more active on smaller scales while being less relevant at larger scales. Using biharmonic viscosity seems to encourage \"scale selectivity.\" -- http://mitgcm.org/public/r2_manual/final/online_documents/node86.html#SECTION003211700000000000000. "
   ]
  },
  {
   "cell_type": "markdown",
   "id": "070bdf3e-61b3-412e-8b7b-e116e3485449",
   "metadata": {},
   "source": [
    "Yulin just gave a talk where this gets mentioned - so you go with higher order diffusion so that higher wavenumbers drop out (simulates dissipation at high wavenumbers - think about it in k-space)"
   ]
  },
  {
   "cell_type": "markdown",
   "id": "588dce1a-a8f6-4649-985b-0a58506c201e",
   "metadata": {},
   "source": [
    "So what quantities do we want: \n",
    " - KPPhbl - mixed layer depth\n",
    " - Theta - potential temperature\n",
    " - U - zonal velocity\n",
    " - V - meridional velocity\n",
    " - W -  vertical velocity\n",
    " - oceQnet - net upward surface heat flux\n",
    " - net upward shortwave radiation\n",
    " - oceTAUX - zonal wind stress\n",
    " - oceTAUY - meridional wind stress\n",
    " \n",
    " So at the very least, these have to be added to MIT_xr_coas_with_tides.py and you have to learn how each of these gets interpolated - I imagine scalars get interpolated the way W does but x-y sorts of things get interpolated by U and V. GEOS variables are named quite differently so it'll be good to take a look at those as soon as possible."
   ]
  },
  {
   "cell_type": "markdown",
   "id": "c5e4ba1c-8e0c-4740-9f45-d41fbfc26ef3",
   "metadata": {},
   "source": [
    "----------------------------------------------------------------------------------------------\n",
    "6/28 Update: I talked to Hector about accessing GEOS code and so now that's something I can do - I will play with GEOS_xr.py in a different notebook and look at what variables are accessible to me. However, I woudl assume that since the model is couples that the variables I'm looking at would be the same. \n",
    "----------------------------------------------------------------------------------------------"
   ]
  },
  {
   "cell_type": "markdown",
   "id": "d3e762e7-6fe8-4b59-815b-720e907916cd",
   "metadata": {},
   "source": [
    "Cool! Didn't realize MARKDOWN did that when you bracketed a paragraph between two lines of dashes:"
   ]
  },
  {
   "cell_type": "markdown",
   "id": "d605082a-e6fc-49ae-a25d-197f6fa9a709",
   "metadata": {},
   "source": [
    "Questions for Brian, Patrice, Dimitris (6/28/2021)\n",
    "1. Are we just looking for wavenumber in the lat/lon plane?\n",
    "2. Where's a good resource to study heat advection/diffusion?\n",
    "3. If Dimitris is there, good place to read about GEOS? Documentation?\n",
    "\n",
    "Updates: I can make movies, I can read mitgcm data use hector's code, i can read GEOS using hector's code, he hasn't sent me wavenumber frequency spectra stuff yet"
   ]
  },
  {
   "cell_type": "markdown",
   "id": "c0b0034c-197a-434a-b873-f18976e6cd9d",
   "metadata": {},
   "source": [
    "Check MITGCM documentation - for how things are defined\n",
    "\n",
    "There's a sponge layer in the GEOS model that funnels all the different heat terms form the atmosphere into a \"net\" term for the ocean --\n",
    "\n",
    "Basically, Qnet in theory contains everything you need for heat stuff\n",
    "\n",
    "You can compare the stuff in GEOS (which stores them individually) by adding them up and comparing to the QNet in MITgcm \n",
    "\n",
    "Sponge layer is 2m thick, heat accumulates there and is calculated every hour but affects the MITgcm every timestep -- there's a relaxation timescale thing that goes on to - - what goes into the sponge relaxes into the ocean hourly\n",
    "\n",
    "SPONGE -- where is this stored? \n",
    "\n",
    "matching what goes into sponge and gets sent to MITgcm would be interesting\n",
    "\n",
    "30 day cycles - 12 realizations\n",
    "you could mention something about seasonal things\n",
    "\n",
    "the land mask of the ocean and atmosphere are different + their grids are different\n",
    "cube sphere grid? -- super useful to compare sponge stuff to see how these work\n",
    "\n",
    "\n",
    "You can compute using Paige's equations to test a timestep. I.E do an Euiler step with Pagies's equation and compare between T[t=0] and T[t=1].\n",
    "\n",
    "Solar radiation - short wave long radiation\n",
    "\n",
    "temperature tendency\n",
    "\n",
    "Hm is going to vary over time - that will introduce errors to the calculations -- and there's uncertainties that result \n",
    "\n",
    "Try matching terms not even in Fourier space -- to get an idea of errors\n",
    "\n",
    "Start trying to close the equation just for the ocean\n",
    "\n",
    "Entrainment heat flux\n",
    "\n",
    "\n",
    "1. Close the equation 2\n",
    " - try to close for 1 grid cell to start\n",
    " - after that, then try Patrice's suggestion of multiplying equation 2 by the mixed layer height (d( H*T)/dt)\n",
    " \n",
    "  - figure out what's important, what terms are larger or not, what terms need to be estimated in a better way \n",
    "  - radiative/short wave vary diurnally and due to clouds\n",
    "  \n",
    "  \n",
    "  how to define mixed layer?\n",
    "  \n",
    "  \n",
    "  check homogeneity of temperature along a depth (mixing layer kbpl in mitgcm output for a grid cell as a function of time) - that's step 1\n",
    "  \n",
    "  \n",
    "  \n",
    "\n",
    "2. Compare qnet in MITgcm to what GEOS says it is (leave until you have interpolated GEOS fields)\n",
    "\n",
    "3. Close equation 2 multiplied by the height of the mixed layer?\n",
    "\n",
    "\n",
    "\n"
   ]
  },
  {
   "cell_type": "markdown",
   "id": "e5b05528-a1dd-45e4-9667-ddff9325c27f",
   "metadata": {},
   "source": [
    "-----------------------------------------------------------------------------------------------------------------------------------------------------\n",
    "Meeting Conclusions and Immediate First Steps:\n",
    "-----------------------------------------------------------------------------------------------------------------------------------------------------\n",
    "1. Plot temperature as a function of depth and time for once small cell \n",
    "\n",
    "2. Try to close the budget for one cell (Paige's equation 2)\n",
    "\n",
    "So how to do this:\n",
    "\n",
    "a. load temperatures in the model (theta)\n",
    "b. Pick a region of the world \n",
    "c. load kbpl\n",
    "d. load temps for multiple depths\n",
    "\n",
    "Use a plot of temp with depth over time to figure out what definition of mixed layer you should use\n",
    "load all variables to try to balance budget"
   ]
  },
  {
   "cell_type": "markdown",
   "id": "7f1bc437-2d44-4d15-95f7-aaf6ed236292",
   "metadata": {},
   "source": [
    "------------------------------------------------------------------------------------------------------------------------------------------------------\n",
    "Takeaways from Meeting:\n",
    "------------------------------------------------------------------------------------------------------------------------------------------------------\n",
    "- There is a sponge layer in the coupled model that has been helpful for interpolating between the atmosphere and the ocean models but is not the first choice of how to implement a coupled model\n",
    "- The sponge takes in heat from the atmosphere and on timescales of an hour relaxes heat into the ocean\n",
    "- This sponge layer will require investigation to see how it affects the accuracy of calculations - remember, that technically any heat going out of the ocean should go into the atmosphere and vice versa -- so this is how we should be validating calculations.\n",
    "- Eventually, we'll want to compare qnet in GEOS to qnet in MITgcm\n",
    "- We may eventually want to look at a version of the dynamics where we do d/dt (T*H) where H is the mixed layer depth"
   ]
  },
  {
   "cell_type": "markdown",
   "id": "715bddb7-8be6-4a3e-8bb8-be2aa8aaa5b6",
   "metadata": {},
   "source": [
    "------------------------------------------------------------------------------------------------------------------\n",
    "7/6/2021 Update: So what do I need to balance the budget just for a small section? \n",
    "------------------------------------------------------------------------------------------------------------------\n",
    "\n",
    "- theta -- this we have in abundance\n",
    "- we need to figure out differentiating pre-interpolating theta however - this will be important for advective and diffusive terms\n",
    "- Qnet\n",
    "- how to determine K2 and K4?\n",
    "\n",
    "Note that this was Paige's set of equations but this does not account for the complexity of MITgcm and GEOS"
   ]
  }
 ],
 "metadata": {
  "kernelspec": {
   "display_name": "Python 3",
   "language": "python",
   "name": "python3"
  },
  "language_info": {
   "codemirror_mode": {
    "name": "ipython",
    "version": 3
   },
   "file_extension": ".py",
   "mimetype": "text/x-python",
   "name": "python",
   "nbconvert_exporter": "python",
   "pygments_lexer": "ipython3",
   "version": "3.8.10"
  }
 },
 "nbformat": 4,
 "nbformat_minor": 5
}
