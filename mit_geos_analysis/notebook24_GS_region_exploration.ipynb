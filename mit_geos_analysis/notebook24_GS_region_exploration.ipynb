{
 "cells": [
  {
   "cell_type": "code",
   "execution_count": 1,
   "id": "594c8606-d287-4a59-acaf-9233ccd90b92",
   "metadata": {},
   "outputs": [],
   "source": [
    "#accessing netcdf files from Hector's folders\n",
    "import os, glob, sys\n",
    "sys.path.append(\"//nobackup//amondal//Python//Hector_Python_Scripts\")\n",
    "sys.path.append(\"//nobackup/amondal//Python//mit_geos_analysis\")\n",
    "#from mds_store import openmdsdataset\n",
    "#playing with netcdf - xarray\n",
    "import numpy as np\n",
    "import xarray as xr\n",
    "import dask.array as da\n",
    "import matplotlib.pyplot as plt\n",
    "# How about visualization?\n",
    "%matplotlib inline\n",
    "import netCDF4\n",
    "from netCDF4 import Dataset\n",
    "#from xmitgcm import open_mdsdataset\n",
    "from GetNCDataSet import getMITNCDataSet\n",
    "from MITllc2160Depth import *\n",
    "sys.path.append(\"//nobackup/amondal//Python//xmitgcm//xmitgcm\")\n",
    "from xmitgcm.mds_store import open_mdsdataset\n",
    "import xrft\n",
    "\n",
    "from dask.distributed import Client\n",
    "client = Client(memory_limit='90GB',n_workers = 40, threads_per_worker=1)"
   ]
  },
  {
   "cell_type": "code",
   "execution_count": 2,
   "id": "50e6bc6b-dad5-470b-8258-b4eeb5c0eac4",
   "metadata": {},
   "outputs": [],
   "source": [
    "from spectral_analysis_code import *"
   ]
  },
  {
   "cell_type": "code",
   "execution_count": 3,
   "id": "ffa8d30d-d8a0-4f38-8a9f-dec5739c563b",
   "metadata": {
    "tags": []
   },
   "outputs": [
    {
     "name": "stdout",
     "output_type": "stream",
     "text": [
      "Time combined dataset has been opened.\n",
      "I concatenated the first Z-layer\n",
      "Time combined dataset has been opened.\n",
      "I concatenated the first Z-layer\n"
     ]
    }
   ],
   "source": [
    "W15 = getMITNCDataSet('/nobackup/amondal/NCData/20211116_QTprime_superbig_shorttime_explore_region/', 'W', 15,15)\n",
    "T15 = getMITNCDataSet('/nobackup/amondal/NCData/20211116_QTprime_superbig_shorttime_explore_region/', 'Theta', 15,15)"
   ]
  },
  {
   "cell_type": "code",
   "execution_count": 4,
   "id": "e4480d97-8315-40fe-93b1-c3a25137f767",
   "metadata": {},
   "outputs": [],
   "source": [
    "W15c = W15.W.compute()\n",
    "T15c = T15.Theta.compute()"
   ]
  },
  {
   "cell_type": "code",
   "execution_count": 5,
   "id": "a01d763f-cc7c-4f43-b831-5f797b53bc59",
   "metadata": {},
   "outputs": [],
   "source": [
    "W15c = xr.where(np.isnan(W15c), 0, W15c)\n",
    "T15c = xr.where(np.isnan(T15c), 0, T15c)"
   ]
  },
  {
   "cell_type": "code",
   "execution_count": 6,
   "id": "548d120c-1a22-4e06-8f1f-0cdcea9a0f95",
   "metadata": {},
   "outputs": [],
   "source": [
    "#W15cr = regularizeCoordinates(W15c,'linear',timeunits = 'hours')\n",
    "#T15cr = regularizeCoordinates(T15c,'linear',timeunits = 'hours')\n",
    "W15cr_d = xrft.detrend(xrft.detrend(W15c, dim='time', detrend_type = 'linear'), dim=['lat','lon'], detrend_type = 'linear')\n",
    "T15cr_d = xrft.detrend(xrft.detrend(T15c, dim='time', detrend_type = 'linear'), dim=['lat','lon'], detrend_type = 'linear')"
   ]
  },
  {
   "cell_type": "code",
   "execution_count": 7,
   "id": "2a4c395d-1e69-4182-88bb-af2fe297bcdb",
   "metadata": {},
   "outputs": [],
   "source": [
    "W15_short = W15cr_d[0:360]\n",
    "T15_short = T15cr_d[0:360]\n"
   ]
  },
  {
   "cell_type": "code",
   "execution_count": 8,
   "id": "7e7c5839-f1c4-43b2-88ed-fdea120c6663",
   "metadata": {},
   "outputs": [],
   "source": [
    "W15_lp = movingWindowAverage(W15_short, 'time', 24, 'lat')\n",
    "T15_lp = movingWindowAverage(T15_short, 'time', 24, 'lat')"
   ]
  },
  {
   "cell_type": "code",
   "execution_count": 9,
   "id": "1a029c21-dc9d-49d6-b864-6fa1abf3fecc",
   "metadata": {},
   "outputs": [],
   "source": [
    "W15c_lp = W15_lp.compute()\n",
    "T15c_lp = T15_lp.compute()"
   ]
  },
  {
   "cell_type": "code",
   "execution_count": 10,
   "id": "fddace36-b728-46a1-9383-d9fcdb326c31",
   "metadata": {},
   "outputs": [],
   "source": [
    "WpTp_lp = W15c_lp*T15c_lp*4.2e6"
   ]
  },
  {
   "cell_type": "code",
   "execution_count": 9,
   "id": "4ac630a4-1888-41e2-a5cc-5aae11dc9554",
   "metadata": {},
   "outputs": [
    {
     "ename": "NameError",
     "evalue": "name 'WpTp_lp' is not defined",
     "output_type": "error",
     "traceback": [
      "\u001b[0;31m---------------------------------------------------------------------------\u001b[0m",
      "\u001b[0;31mNameError\u001b[0m                                 Traceback (most recent call last)",
      "\u001b[0;32m<ipython-input-9-9f8dd53c91bb>\u001b[0m in \u001b[0;36m<module>\u001b[0;34m\u001b[0m\n\u001b[1;32m      1\u001b[0m \u001b[0mget_ipython\u001b[0m\u001b[0;34m(\u001b[0m\u001b[0;34m)\u001b[0m\u001b[0;34m.\u001b[0m\u001b[0mrun_line_magic\u001b[0m\u001b[0;34m(\u001b[0m\u001b[0;34m'matplotlib'\u001b[0m\u001b[0;34m,\u001b[0m \u001b[0;34m'inline'\u001b[0m\u001b[0;34m)\u001b[0m\u001b[0;34m\u001b[0m\u001b[0;34m\u001b[0m\u001b[0m\n\u001b[0;32m----> 2\u001b[0;31m \u001b[0mWpTp_lp\u001b[0m\u001b[0;34m[\u001b[0m\u001b[0;36m45\u001b[0m\u001b[0;34m]\u001b[0m\u001b[0;34m.\u001b[0m\u001b[0mplot\u001b[0m\u001b[0;34m(\u001b[0m\u001b[0mvmin\u001b[0m\u001b[0;34m=\u001b[0m\u001b[0;34m-\u001b[0m\u001b[0;36m5000\u001b[0m\u001b[0;34m,\u001b[0m \u001b[0mvmax\u001b[0m\u001b[0;34m=\u001b[0m\u001b[0;36m5000\u001b[0m\u001b[0;34m,\u001b[0m \u001b[0mcmap\u001b[0m\u001b[0;34m=\u001b[0m\u001b[0;34m'bwr'\u001b[0m\u001b[0;34m,\u001b[0m\u001b[0mfigsize\u001b[0m\u001b[0;34m=\u001b[0m\u001b[0;34m(\u001b[0m\u001b[0;36m8\u001b[0m\u001b[0;34m,\u001b[0m\u001b[0;36m6\u001b[0m\u001b[0;34m)\u001b[0m \u001b[0;34m)\u001b[0m\u001b[0;34m\u001b[0m\u001b[0;34m\u001b[0m\u001b[0m\n\u001b[0m",
      "\u001b[0;31mNameError\u001b[0m: name 'WpTp_lp' is not defined"
     ]
    }
   ],
   "source": [
    "%matplotlib inline\n",
    "WpTp_lp[45].plot(vmin=-5000, vmax=5000, cmap='bwr',figsize=(8,6) )"
   ]
  },
  {
   "cell_type": "markdown",
   "id": "572c95fa-28f5-4c65-8d90-1c4ead9a643d",
   "metadata": {},
   "source": [
    "---------------------------------------------------------------------------------------------------------------------\n",
    "Checking out kinetic energy in this region\n",
    "\n",
    "this isn't working for some reason - but other loads do. In any case, you definitely need to look at a bigger region"
   ]
  },
  {
   "cell_type": "code",
   "execution_count": 6,
   "id": "0a5f6d07-7e7c-4394-aeba-1ca4d96e561c",
   "metadata": {},
   "outputs": [
    {
     "name": "stdout",
     "output_type": "stream",
     "text": [
      "Time combined dataset has been opened.\n",
      "I concatenated the first Z-layer\n"
     ]
    }
   ],
   "source": [
    "U0 = getMITNCDataSet('/nobackup/amondal/NCData/20210830_RegBal_5day/', 'KPPhbl', 0,0)\n",
    "#V0 = getMITNCDataSet('/nobackup/amondal/NCData/20211213_spectra_practice/', 'V', 0,0)"
   ]
  },
  {
   "cell_type": "code",
   "execution_count": null,
   "id": "a2ff5ec9-e394-4694-9f50-f1f953ac696b",
   "metadata": {},
   "outputs": [],
   "source": []
  },
  {
   "cell_type": "code",
   "execution_count": null,
   "id": "6419a105-dbdd-40d6-af07-e1bdca05cecc",
   "metadata": {},
   "outputs": [],
   "source": [
    "KE = U0"
   ]
  }
 ],
 "metadata": {
  "kernelspec": {
   "display_name": "Python 3",
   "language": "python",
   "name": "python3"
  },
  "language_info": {
   "codemirror_mode": {
    "name": "ipython",
    "version": 3
   },
   "file_extension": ".py",
   "mimetype": "text/x-python",
   "name": "python",
   "nbconvert_exporter": "python",
   "pygments_lexer": "ipython3",
   "version": "3.8.10"
  }
 },
 "nbformat": 4,
 "nbformat_minor": 5
}
