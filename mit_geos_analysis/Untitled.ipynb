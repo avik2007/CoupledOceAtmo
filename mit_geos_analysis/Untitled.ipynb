{
 "cells": [
  {
   "cell_type": "code",
   "execution_count": 2,
   "id": "5ba38cae-9354-44c6-b7fb-f33378009263",
   "metadata": {},
   "outputs": [],
   "source": [
    "#accessing netcdf files from Hector's folders\n",
    "import os, glob, sys\n",
    "sys.path.append(\"//nobackup//amondal//Python//Hector_Python_Scripts\")\n",
    "sys.path.append(\"//nobackup/amondal//Python//mit_geos_analysis\")\n",
    "#playing with netcdf - xarray\n",
    "import numpy as np\n",
    "import xarray as xr\n",
    "import dask.array as da\n",
    "import matplotlib.pyplot as plt\n",
    "# How about visualization?\n",
    "%matplotlib inline\n",
    "import xrft\n",
    "import netCDF4\n",
    "import xgcm\n",
    "from netCDF4 import Dataset\n",
    "from xmitgcm import open_mdsdataset\n",
    "from GetNCDataSet import getMITNCDataSet\n",
    "from MIT_xr_cwt_dateloc_fol import loadMITData\n",
    "from MITllc2160Depth import *\n",
    "\n",
    "\n",
    "\n",
    "from dask.distributed import Client\n",
    "#client = Client(memory_limit='90GB',n_workers = 40, threads_per_worker=1)"
   ]
  },
  {
   "cell_type": "markdown",
   "id": "e51dfd08-a0cb-4059-9d24-7cbc03156d72",
   "metadata": {},
   "source": [
    "So in this notebook, we're hoping to wrap up an idea of where to integrate vertically to calculate mixed layer temperature variance budget. I'll be trying to do a few things at the same time - 1. I'm going to do a sensitivity study of the budget balance as a function of integration depth and 2. I'm going to look at frequency wavenumber spectra for theta at various depths"
   ]
  },
  {
   "cell_type": "code",
   "execution_count": 11,
   "id": "45b8a95b-193a-43d1-a60b-7afd36b70a30",
   "metadata": {},
   "outputs": [
    {
     "data": {
      "text/plain": [
       "473.30499999999995"
      ]
     },
     "execution_count": 11,
     "metadata": {},
     "output_type": "execute_result"
    }
   ],
   "source": [
    "zlayerToDepth(38)"
   ]
  },
  {
   "cell_type": "markdown",
   "id": "0a5fc96b-326b-432f-81ef-42efe9b853eb",
   "metadata": {},
   "source": [
    "So we should download 40 layers and do the sum to layer 40 and 38 and compare for the first few months"
   ]
  },
  {
   "cell_type": "code",
   "execution_count": 4,
   "id": "c32a0d0e-0b14-4d18-8bb8-408ddd779a94",
   "metadata": {},
   "outputs": [
    {
     "name": "stdout",
     "output_type": "stream",
     "text": [
      "Time combined dataset has been opened.\n",
      "I concatenated the first Z-layer\n"
     ]
    }
   ],
   "source": [
    "hbl = getMITNCDataSet('/nobackup/amondal/NCData/20211116_QTprime_openocean_3month/', 'KPPhbl', 0,0 )"
   ]
  },
  {
   "cell_type": "code",
   "execution_count": 12,
   "id": "00bd6c79-656b-4ceb-8cea-5a16fe9f47b5",
   "metadata": {},
   "outputs": [],
   "source": [
    "hblc = hbl.compute()"
   ]
  },
  {
   "cell_type": "code",
   "execution_count": null,
   "id": "b96dc232-2344-4ed9-904f-53a2fa4b1dc3",
   "metadata": {},
   "outputs": [],
   "source": [
    "%matplotlib inline\n",
    "hbl"
   ]
  }
 ],
 "metadata": {
  "kernelspec": {
   "display_name": "Python 3 (ipykernel)",
   "language": "python",
   "name": "python3"
  },
  "language_info": {
   "codemirror_mode": {
    "name": "ipython",
    "version": 3
   },
   "file_extension": ".py",
   "mimetype": "text/x-python",
   "name": "python",
   "nbconvert_exporter": "python",
   "pygments_lexer": "ipython3",
   "version": "3.10.0"
  }
 },
 "nbformat": 4,
 "nbformat_minor": 5
}
