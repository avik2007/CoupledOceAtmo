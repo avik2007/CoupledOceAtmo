{
 "cells": [
  {
   "cell_type": "code",
   "execution_count": 1,
   "id": "135cbb13-9e9d-473b-b699-d363e1abcf2a",
   "metadata": {},
   "outputs": [],
   "source": [
    " #accessing netcdf files from Hector's folders\n",
    "import os, glob, sys\n",
    "sys.path.append(\"//nobackup//amondal//Python//Hector_Python_Scripts\")\n",
    "sys.path.append(\"//nobackup/amondal//Python//mit_geos_analysis\")\n",
    "#from mds_store import openmdsdataset\n",
    "#playing with netcdf - xarray\n",
    "import numpy as np\n",
    "import xarray as xr\n",
    "import dask.array as da\n",
    "import matplotlib.pyplot as plt\n",
    "# How about visualization?\n",
    "%matplotlib inline\n",
    "import netCDF4\n",
    "from netCDF4 import Dataset\n",
    "#from xmitgcm import open_mdsdataset\n",
    "from GetNCDataSet import *\n",
    "from MITllc2160Depth import *\n",
    "sys.path.append(\"//nobackup/amondal//Python//xmitgcm//xmitgcm\")\n",
    "from xmitgcm.mds_store import open_mdsdataset\n",
    "import xrft\n",
    "import xgcm\n",
    "from spectral_analysis_code import *\n",
    "from GetNCDataSet import getGEOSNCDataSet\n",
    "\n",
    "from dask.distributed import Client\n",
    "client = Client(memory_limit='100GB',n_workers = 40, threads_per_worker=1)"
   ]
  },
  {
   "cell_type": "markdown",
   "id": "937b7bef-20f4-4f71-ae50-a125ddf803fd",
   "metadata": {},
   "source": [
    "So for calculating Richardson number, you need a few things.\n",
    "1. Definitely U, V, T, S (U,V for shear, T, S, for density). \n",
    "2. Take appropriate derivatives"
   ]
  },
  {
   "cell_type": "code",
   "execution_count": null,
   "id": "eba177f1-504a-421a-9f4d-2f0bad600365",
   "metadata": {},
   "outputs": [],
   "source": [
    "import numpy as np\n",
    "import gsw\n",
    "import dens # hector can give you this module if you need it\n",
    "import glob\n",
    "import scipy.io as io\n",
    "\n",
    "\n",
    "## load some grid parameters\n",
    "YC = np.memmap(prnt+'YC_'+str(NX)+'x'+str(NY), dtype = '>f4',shape=(NY,NX), mode='r').astype(float)[1177:-2,1199:2001]\n",
    "DYF = np.memmap(prnt+'DYF_'+str(NX)+'x'+str(NY), dtype = '>f4',shape=(NY,NX), mode='r').astype(float)[1177:-2,1199:2001]\n",
    "DXF = np.memmap(prnt+'DXF_'+str(NX)+'x'+str(NY), dtype = '>f4',shape=(NY,NX), mode='r').astype(float)[1177:-2,1199:2001]\n",
    "RAU = np.memmap(prnt+'RAW_'+str(NX)+'x'+str(NY), dtype = '>f4',shape=(NY,NX), mode='r').astype(float)[1177:-2,1199:2001]\n",
    "RAV = np.memmap(prnt+'RAS_'+str(NX)+'x'+str(NY), dtype = '>f4',shape=(NY,NX), mode='r').astype(float)[1177:-2,1199:2001]\n",
    "\n",
    "\n",
    "## get the file list, I am assuming you have already extracted similar files for your study area\n",
    "Wf = sorted(glob.glob(prnt+'W_'+str(NX)+'x'+str(NY)+'x'+str(NZ)+'.'+suf+'*'))\n",
    "Tf = sorted(glob.glob(prnt+'Theta_'+str(NX)+'x'+str(NY)+'x'+str(NZ)+'.'+suf+'*'))\n",
    "Sf = sorted(glob.glob(prnt+'Salt_'+str(NX)+'x'+str(NY)+'x'+str(NZ)+'.'+suf+'*'))\n",
    "Uf = sorted(glob.glob(prnt+'U_'+str(NX)+'x'+str(NY)+'x'+str(NZ)+'.'+suf+'*'))\n",
    "Vf = sorted(glob.glob(prnt+'V_'+str(NX)+'x'+str(NY)+'x'+str(NZ)+'.'+suf+'*'))\n",
    "Ef = sorted(glob.glob(prnt+'Eta_'+str(NX)+'x'+str(NY)+'.'+suf+'*'))\n",
    "\n",
    "## load the outputs (here the first file in the folder)\n",
    "layer_max = 50\n",
    "w_tot = np.memmap(Wf[0], dtype = '>f4',shape=(NZ,NY,NX), mode='r')[:layer_max,1177:-2,1199:2001]\n",
    "s_tot = np.memmap(Sf[0], dtype = '>f4',shape=(NZ,NY,NX), mode='r')[:layer_max,1177:-2,1199:2001]\n",
    "t_tot = np.memmap(Tf[0], dtype = '>f4',shape=(NZ,NY,NX), mode='r')[:layer_max,1177:-2,1199:2001]\n",
    "u_tot = np.memmap(Uf[0], dtype = '>f4',shape=(NZ,NY,NX), mode='r')[:layer_max,1177:-2,1199:2001]\n",
    "v_tot = np.memmap(Vf[0], dtype = '>f4',shape=(NZ,NY,NX), mode='r')[:layer_max,1177:-2,1199:2001]\n",
    "eta_tot = np.memmap(Ef[0], dtype = '>f4',shape=(NY,NX), mode='r')[1177:-2,1199:2001]\n",
    "\n",
    "## select a layer/depth\n",
    "layer = 14\n",
    "\n",
    "z = io.loadmat(prnt+'thk90.mat') # I am assuming you already have this file for the depth/level thickness - let me know if not, or ask Hector or Dimitris for where to find it\n",
    "depth = z['dpt90'][0,:] # level depth (m)\n",
    "\n",
    "D = depth[2:layer_max]-depth[:layer_max-2]\n",
    "D = D[:,None,None]\n",
    "D = np.tile(D,(1,w_tot.shape[1],w_tot.shape[2]))\n",
    "\n",
    "## compute finite difference, the super basic way\n",
    "uz = (u_tot[:-2,:,:]-u_tot[2:,:,:])/D\n",
    "vz = (v_tot[:-2,:,:]-v_tot[2:,:,:])/D\n",
    "uz_c = (uz[:,:,:-1]+uz[:,:,1:])/2 # if I remember correctly \"_c\" means at the center of the cell\n",
    "vz_c = (vz[:,:-1,:]+vz[:,1:,:])/2\n",
    "u_z = uz_c[:,1:-1,1:]\n",
    "v_z = vz_c[:,1:,1:-1]\n",
    "\n",
    "## load a buoyancy file (I computed it from temperature, salinity, depth and saved it, I think it saved me time instead of recomputing it every time). If you have trouble computing buoyancy, I put a small code that I used below in comments\n",
    "b = np.load('/Users/siegelma/Documents/Kerguelen_analysis/raw_data/'+suf+'_b.npy')\n",
    "\n",
    "# ##compute b at a given layer ##\n",
    "# ref = 1027.5\n",
    "# rho = dens.densjmd95(s_tot[layer,:,:],t_tot[layer,:,:],depth[layer]) # you can ask Hector the function dens.densjmd95 or use one that you like (e.g., from gsw)\n",
    "# b[layer,:,:] = 9.81*(1-rho/ref)\n",
    "\n",
    "\n",
    "b_z = (b[:-2,:,:]-b[2:,:,:])/D\n",
    "bz = b_z[:,1:-1,1:-1]\n",
    "b0 = np.zeros((bz.shape[1],bz.shape[2]7))\n",
    "b0 = b0[None,:]\n",
    "bz = np.vstack((b0,bz))\n",
    "\n",
    "# db/dx\n",
    "b2x = (b[:,:,2:] * DYF[:,2:] - b[:,:,:-2] * DYF[:,:-2])/(RAU[:,1:-1]+RAU[:,:-2])\n",
    "# db/dx\n",
    "b2y = (b[:,2:,:] * DXF[2:,:] - b[:,:-2,:] * DXF[:-2,:])/(RAV[1:-1,:]+RAV[:-2,:])\n",
    "### b_x and b_y are at the cell center ##\n",
    "b_x = b2x[:,1:-1,:]\n",
    "b_y = b2y[:,:,1:-1]\n",
    "\n",
    "Gradb = np.sqrt(b_x**2 + b_y**2)\n",
    "\n",
    "## Richardson number assuming thermal wind\n",
    "yc = YC[1:-1,1:-1]\n",
    "f = gsw.f(yc)\n",
    "Ri = ((f**2)*bz)/(Gradb[:-1,:,:]**2)\n",
    "\n",
    "## Richardson number not assuming thermal wind\n",
    "Ri_real = bz[:-1,:,:]/(u_z**2+v_z**2)\n"
   ]
  },
  {
   "cell_type": "code",
   "execution_count": 3,
   "id": "6aaf323d-1e7b-4ae8-b81c-93389afbbdbf",
   "metadata": {},
   "outputs": [
    {
     "data": {
      "text/plain": [
       "1.93"
      ]
     },
     "execution_count": 3,
     "metadata": {},
     "output_type": "execute_result"
    }
   ],
   "source": [
    "getZlayerThickness(5)"
   ]
  },
  {
   "cell_type": "code",
   "execution_count": 23,
   "id": "c3a1e6d3-4aa5-42b3-a92d-34a38e9f8588",
   "metadata": {},
   "outputs": [
    {
     "data": {
      "text/plain": [
       "array([1.  , 1.14, 1.3 , 1.49])"
      ]
     },
     "execution_count": 23,
     "metadata": {},
     "output_type": "execute_result"
    }
   ],
   "source": [
    "getZlayerThickness(np.array(range(0,4)))"
   ]
  },
  {
   "cell_type": "code",
   "execution_count": 7,
   "id": "6268a453-c758-49d3-8442-b7d4bc6b28fd",
   "metadata": {},
   "outputs": [],
   "source": [
    "thk = scipy.io.loadmat('../Hector_Python_Scripts/thk90')\n",
    "thickness = thk['thk90'][0,0:90]"
   ]
  },
  {
   "cell_type": "code",
   "execution_count": 21,
   "id": "b2167528-5ee9-4d8b-99fb-37ff276f6553",
   "metadata": {},
   "outputs": [
    {
     "data": {
      "text/plain": [
       "array([1, 2, 3])"
      ]
     },
     "execution_count": 21,
     "metadata": {},
     "output_type": "execute_result"
    }
   ],
   "source": [
    "np.array(range(1,4))"
   ]
  },
  {
   "cell_type": "code",
   "execution_count": null,
   "id": "5af928ad-b426-4869-ab04-b9c1eb845933",
   "metadata": {},
   "outputs": [],
   "source": [
    "diros='/nobackupp11/dmenemen/DYAMOND/c1440_llc2160/mit_output/Salt'\n",
    "dss = "
   ]
  }
 ],
 "metadata": {
  "kernelspec": {
   "display_name": "Python 3",
   "language": "python",
   "name": "python3"
  },
  "language_info": {
   "codemirror_mode": {
    "name": "ipython",
    "version": 3
   },
   "file_extension": ".py",
   "mimetype": "text/x-python",
   "name": "python",
   "nbconvert_exporter": "python",
   "pygments_lexer": "ipython3",
   "version": "3.8.10"
  }
 },
 "nbformat": 4,
 "nbformat_minor": 5
}
