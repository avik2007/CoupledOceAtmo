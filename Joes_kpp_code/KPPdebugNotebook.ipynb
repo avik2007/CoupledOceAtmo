{
 "cells": [
  {
   "cell_type": "code",
   "execution_count": 1,
   "id": "490ea967-155a-4e29-a7c9-833685b730ca",
   "metadata": {},
   "outputs": [],
   "source": [
    "import os\n",
    "import sys\n",
    "sys.path.append(\"12_16_21\")\n",
    "import fld_tools as ft\n",
    "import matplotlib.pyplot as plt\n",
    "import matplotlib.colors as colors\n",
    "from repmat import repmat\n",
    "from flds import FldsU\n",
    "from flds import FldsNU\n",
    "import numpy as np"
   ]
  },
  {
   "cell_type": "code",
   "execution_count": 3,
   "id": "92098ac1-7a66-4ce8-8912-015154adcdba",
   "metadata": {},
   "outputs": [
    {
     "name": "stdout",
     "output_type": "stream",
     "text": [
      "max S = 35.393211364746094\n",
      "min S = 0.0\n",
      "max T = 24.346668243408203\n",
      "min T = 0.0\n",
      "max U = 0.8634651899337769\n",
      "min U = -0.6833522915840149\n",
      "max V = 0.8318789005279541\n",
      "min V = -0.6641660928726196\n",
      "max W = 0.02351987734436989\n",
      "min W = -0.023023640736937523\n"
     ]
    },
    {
     "ename": "ValueError",
     "evalue": "could not broadcast input array from shape (468,) into shape (88,)",
     "output_type": "error",
     "traceback": [
      "\u001b[0;31m---------------------------------------------------------------------------\u001b[0m",
      "\u001b[0;31mFileNotFoundError\u001b[0m                         Traceback (most recent call last)",
      "\u001b[0;32m/nobackupp12/amondal/Python/Joes_kpp_code/12_16_21/stdio.py\u001b[0m in \u001b[0;36mread_bin\u001b[0;34m(fname, dims)\u001b[0m\n\u001b[1;32m     36\u001b[0m     \u001b[0;32mtry\u001b[0m\u001b[0;34m:\u001b[0m\u001b[0;34m\u001b[0m\u001b[0;34m\u001b[0m\u001b[0m\n\u001b[0;32m---> 37\u001b[0;31m         \u001b[0mfid\u001b[0m\u001b[0;34m=\u001b[0m\u001b[0mopen\u001b[0m\u001b[0;34m(\u001b[0m\u001b[0mfname\u001b[0m \u001b[0;34m+\u001b[0m \u001b[0;34m'.bin'\u001b[0m\u001b[0;34m,\u001b[0m\u001b[0;34m'rb'\u001b[0m\u001b[0;34m)\u001b[0m\u001b[0;34m;\u001b[0m\u001b[0;34m\u001b[0m\u001b[0;34m\u001b[0m\u001b[0m\n\u001b[0m\u001b[1;32m     38\u001b[0m     \u001b[0;32mexcept\u001b[0m\u001b[0;34m:\u001b[0m\u001b[0;34m\u001b[0m\u001b[0;34m\u001b[0m\u001b[0m\n",
      "\u001b[0;31mFileNotFoundError\u001b[0m: [Errno 2] No such file or directory: '/nobackup/amondal/Python/Joes_kpp_code/Joe_aux_data/BATHY_288x468_CCS.bin'",
      "\nDuring handling of the above exception, another exception occurred:\n",
      "\u001b[0;31mFileNotFoundError\u001b[0m                         Traceback (most recent call last)",
      "\u001b[0;32m/nobackupp12/amondal/Python/Joes_kpp_code/12_16_21/flds.py\u001b[0m in \u001b[0;36mload_mitgcm_data\u001b[0;34m(self, dataroot, auxroot, iters, dims)\u001b[0m\n\u001b[1;32m    215\u001b[0m             \u001b[0;31m#self.depth = -ft.read_bin(auxroot + 'BATHY_' + str(dims[0]) + 'x' + str(dims[1]) + '_Box56', (nx,ny));\u001b[0m\u001b[0;34m\u001b[0m\u001b[0;34m\u001b[0m\u001b[0;34m\u001b[0m\u001b[0m\n\u001b[0;32m--> 216\u001b[0;31m             \u001b[0mself\u001b[0m\u001b[0;34m.\u001b[0m\u001b[0mdepth\u001b[0m \u001b[0;34m=\u001b[0m \u001b[0;34m-\u001b[0m\u001b[0mft\u001b[0m\u001b[0;34m.\u001b[0m\u001b[0mread_bin\u001b[0m\u001b[0;34m(\u001b[0m\u001b[0mauxroot\u001b[0m \u001b[0;34m+\u001b[0m \u001b[0;34m'BATHY_'\u001b[0m \u001b[0;34m+\u001b[0m \u001b[0mstr\u001b[0m\u001b[0;34m(\u001b[0m\u001b[0mdims\u001b[0m\u001b[0;34m[\u001b[0m\u001b[0;36m0\u001b[0m\u001b[0;34m]\u001b[0m\u001b[0;34m)\u001b[0m \u001b[0;34m+\u001b[0m \u001b[0;34m'x'\u001b[0m \u001b[0;34m+\u001b[0m \u001b[0mstr\u001b[0m\u001b[0;34m(\u001b[0m\u001b[0mdims\u001b[0m\u001b[0;34m[\u001b[0m\u001b[0;36m1\u001b[0m\u001b[0;34m]\u001b[0m\u001b[0;34m)\u001b[0m \u001b[0;34m+\u001b[0m \u001b[0;34m'_CCS'\u001b[0m\u001b[0;34m,\u001b[0m \u001b[0;34m(\u001b[0m\u001b[0mny\u001b[0m\u001b[0;34m,\u001b[0m\u001b[0mnx\u001b[0m\u001b[0;34m)\u001b[0m\u001b[0;34m)\u001b[0m\u001b[0;34m;\u001b[0m\u001b[0;34m\u001b[0m\u001b[0;34m\u001b[0m\u001b[0m\n\u001b[0m\u001b[1;32m    217\u001b[0m         \u001b[0;32mexcept\u001b[0m\u001b[0;34m:\u001b[0m\u001b[0;34m\u001b[0m\u001b[0;34m\u001b[0m\u001b[0m\n",
      "\u001b[0;32m/nobackupp12/amondal/Python/Joes_kpp_code/12_16_21/stdio.py\u001b[0m in \u001b[0;36mread_bin\u001b[0;34m(fname, dims)\u001b[0m\n\u001b[1;32m     38\u001b[0m     \u001b[0;32mexcept\u001b[0m\u001b[0;34m:\u001b[0m\u001b[0;34m\u001b[0m\u001b[0;34m\u001b[0m\u001b[0m\n\u001b[0;32m---> 39\u001b[0;31m         \u001b[0mfid\u001b[0m\u001b[0;34m=\u001b[0m\u001b[0mopen\u001b[0m\u001b[0;34m(\u001b[0m\u001b[0mfname\u001b[0m\u001b[0;34m,\u001b[0m\u001b[0;34m'rb'\u001b[0m\u001b[0;34m)\u001b[0m\u001b[0;34m;\u001b[0m\u001b[0;34m\u001b[0m\u001b[0;34m\u001b[0m\u001b[0m\n\u001b[0m\u001b[1;32m     40\u001b[0m     \u001b[0mfield\u001b[0m \u001b[0;34m=\u001b[0m \u001b[0mnp\u001b[0m\u001b[0;34m.\u001b[0m\u001b[0mfromfile\u001b[0m\u001b[0;34m(\u001b[0m\u001b[0mfid\u001b[0m\u001b[0;34m,\u001b[0m \u001b[0mdtype\u001b[0m\u001b[0;34m=\u001b[0m\u001b[0mnp\u001b[0m\u001b[0;34m.\u001b[0m\u001b[0mdtype\u001b[0m\u001b[0;34m(\u001b[0m\u001b[0;34m'>f4'\u001b[0m\u001b[0;34m)\u001b[0m\u001b[0;34m,\u001b[0m\u001b[0mcount\u001b[0m\u001b[0;34m=\u001b[0m\u001b[0mnp\u001b[0m\u001b[0;34m.\u001b[0m\u001b[0mprod\u001b[0m\u001b[0;34m(\u001b[0m\u001b[0mdims\u001b[0m\u001b[0;34m)\u001b[0m\u001b[0;34m)\u001b[0m\u001b[0;34m\u001b[0m\u001b[0;34m\u001b[0m\u001b[0m\n",
      "\u001b[0;31mFileNotFoundError\u001b[0m: [Errno 2] No such file or directory: '/nobackup/amondal/Python/Joes_kpp_code/Joe_aux_data/BATHY_288x468_CCS'",
      "\nDuring handling of the above exception, another exception occurred:\n",
      "\u001b[0;31mValueError\u001b[0m                                Traceback (most recent call last)",
      "\u001b[0;32m<ipython-input-3-63d849286f05>\u001b[0m in \u001b[0;36m<module>\u001b[0;34m\u001b[0m\n\u001b[1;32m     22\u001b[0m \u001b[0;34m\u001b[0m\u001b[0m\n\u001b[1;32m     23\u001b[0m \u001b[0mf\u001b[0m \u001b[0;34m=\u001b[0m \u001b[0mFldsNU\u001b[0m\u001b[0;34m(\u001b[0m\u001b[0;34m)\u001b[0m\u001b[0;34m;\u001b[0m\u001b[0;34m\u001b[0m\u001b[0;34m\u001b[0m\u001b[0m\n\u001b[0;32m---> 24\u001b[0;31m \u001b[0mf\u001b[0m\u001b[0;34m.\u001b[0m\u001b[0mload_mitgcm_data\u001b[0m\u001b[0;34m(\u001b[0m\u001b[0mdata_dir\u001b[0m\u001b[0;34m,\u001b[0m\u001b[0maux_data_dir\u001b[0m\u001b[0;34m,\u001b[0m\u001b[0miters\u001b[0m\u001b[0;34m,\u001b[0m\u001b[0mdims\u001b[0m\u001b[0;34m)\u001b[0m\u001b[0;34m;\u001b[0m\u001b[0;34m\u001b[0m\u001b[0;34m\u001b[0m\u001b[0m\n\u001b[0m\u001b[1;32m     25\u001b[0m \u001b[0mRHOAnoma\u001b[0m \u001b[0;34m=\u001b[0m \u001b[0mf\u001b[0m\u001b[0;34m.\u001b[0m\u001b[0mload_mitgcm_field\u001b[0m\u001b[0;34m(\u001b[0m\u001b[0;34m'RHOAnoma'\u001b[0m\u001b[0;34m,\u001b[0m\u001b[0mdata_dir\u001b[0m\u001b[0;34m,\u001b[0m\u001b[0miters\u001b[0m\u001b[0;34m,\u001b[0m\u001b[0mdims\u001b[0m\u001b[0;34m)\u001b[0m\u001b[0;34m;\u001b[0m\u001b[0;34m\u001b[0m\u001b[0;34m\u001b[0m\u001b[0m\n\u001b[1;32m     26\u001b[0m \u001b[0mKPPviscA\u001b[0m \u001b[0;34m=\u001b[0m \u001b[0mf\u001b[0m\u001b[0;34m.\u001b[0m\u001b[0mload_mitgcm_field\u001b[0m\u001b[0;34m(\u001b[0m\u001b[0;34m'KPPviscA'\u001b[0m\u001b[0;34m,\u001b[0m\u001b[0mdata_dir\u001b[0m\u001b[0;34m,\u001b[0m\u001b[0miters\u001b[0m\u001b[0;34m,\u001b[0m\u001b[0mdims\u001b[0m\u001b[0;34m)\u001b[0m\u001b[0;34m;\u001b[0m\u001b[0;34m\u001b[0m\u001b[0;34m\u001b[0m\u001b[0m\n",
      "\u001b[0;32m/nobackupp12/amondal/Python/Joes_kpp_code/12_16_21/flds.py\u001b[0m in \u001b[0;36mload_mitgcm_data\u001b[0;34m(self, dataroot, auxroot, iters, dims)\u001b[0m\n\u001b[1;32m    218\u001b[0m             \u001b[0;31m#auxroot = auxroot + '../build/';\u001b[0m\u001b[0;34m\u001b[0m\u001b[0;34m\u001b[0m\u001b[0;34m\u001b[0m\u001b[0m\n\u001b[1;32m    219\u001b[0m             \u001b[0;31m#self.depth = -ft.read_bin(auxroot + 'BATHY_' + str(dims[0]) + 'x' + str(dims[1]) + '_Box56', (nx,ny));\u001b[0m\u001b[0;34m\u001b[0m\u001b[0;34m\u001b[0m\u001b[0;34m\u001b[0m\u001b[0m\n\u001b[0;32m--> 220\u001b[0;31m             \u001b[0mself\u001b[0m\u001b[0;34m.\u001b[0m\u001b[0mdepth\u001b[0m \u001b[0;34m=\u001b[0m \u001b[0;34m-\u001b[0m\u001b[0mft\u001b[0m\u001b[0;34m.\u001b[0m\u001b[0mread_bin\u001b[0m\u001b[0;34m(\u001b[0m\u001b[0;34m'/nobackup/amondal/Python/Joes_kpp_code/Hector_Sub_Data/BATHY_2400x2400_CCS'\u001b[0m\u001b[0;34m,\u001b[0m \u001b[0;34m(\u001b[0m\u001b[0mny\u001b[0m\u001b[0;34m,\u001b[0m\u001b[0mnx\u001b[0m\u001b[0;34m)\u001b[0m\u001b[0;34m)\u001b[0m\u001b[0;34m\u001b[0m\u001b[0;34m\u001b[0m\u001b[0m\n\u001b[0m\u001b[1;32m    221\u001b[0m         \u001b[0mself\u001b[0m\u001b[0;34m.\u001b[0m\u001b[0mS\u001b[0m \u001b[0;34m=\u001b[0m \u001b[0mnp\u001b[0m\u001b[0;34m.\u001b[0m\u001b[0mswapaxes\u001b[0m\u001b[0;34m(\u001b[0m\u001b[0mself\u001b[0m\u001b[0;34m.\u001b[0m\u001b[0mS\u001b[0m\u001b[0;34m,\u001b[0m \u001b[0;36m0\u001b[0m\u001b[0;34m,\u001b[0m \u001b[0;36m2\u001b[0m\u001b[0;34m)\u001b[0m\u001b[0;34m;\u001b[0m\u001b[0;34m\u001b[0m\u001b[0;34m\u001b[0m\u001b[0m\n\u001b[1;32m    222\u001b[0m         \u001b[0mself\u001b[0m\u001b[0;34m.\u001b[0m\u001b[0mT\u001b[0m \u001b[0;34m=\u001b[0m \u001b[0mnp\u001b[0m\u001b[0;34m.\u001b[0m\u001b[0mswapaxes\u001b[0m\u001b[0;34m(\u001b[0m\u001b[0mself\u001b[0m\u001b[0;34m.\u001b[0m\u001b[0mT\u001b[0m\u001b[0;34m,\u001b[0m \u001b[0;36m0\u001b[0m\u001b[0;34m,\u001b[0m \u001b[0;36m2\u001b[0m\u001b[0;34m)\u001b[0m\u001b[0;34m;\u001b[0m\u001b[0;34m\u001b[0m\u001b[0;34m\u001b[0m\u001b[0m\n",
      "\u001b[0;32m/nobackupp12/amondal/Python/Joes_kpp_code/12_16_21/stdio.py\u001b[0m in \u001b[0;36mread_bin\u001b[0;34m(fname, dims)\u001b[0m\n\u001b[1;32m     39\u001b[0m         \u001b[0mfid\u001b[0m\u001b[0;34m=\u001b[0m\u001b[0mopen\u001b[0m\u001b[0;34m(\u001b[0m\u001b[0mfname\u001b[0m\u001b[0;34m,\u001b[0m\u001b[0;34m'rb'\u001b[0m\u001b[0;34m)\u001b[0m\u001b[0;34m;\u001b[0m\u001b[0;34m\u001b[0m\u001b[0;34m\u001b[0m\u001b[0m\n\u001b[1;32m     40\u001b[0m     \u001b[0mfield\u001b[0m \u001b[0;34m=\u001b[0m \u001b[0mnp\u001b[0m\u001b[0;34m.\u001b[0m\u001b[0mfromfile\u001b[0m\u001b[0;34m(\u001b[0m\u001b[0mfid\u001b[0m\u001b[0;34m,\u001b[0m \u001b[0mdtype\u001b[0m\u001b[0;34m=\u001b[0m\u001b[0mnp\u001b[0m\u001b[0;34m.\u001b[0m\u001b[0mdtype\u001b[0m\u001b[0;34m(\u001b[0m\u001b[0;34m'>f4'\u001b[0m\u001b[0;34m)\u001b[0m\u001b[0;34m,\u001b[0m\u001b[0mcount\u001b[0m\u001b[0;34m=\u001b[0m\u001b[0mnp\u001b[0m\u001b[0;34m.\u001b[0m\u001b[0mprod\u001b[0m\u001b[0;34m(\u001b[0m\u001b[0mdims\u001b[0m\u001b[0;34m)\u001b[0m\u001b[0;34m)\u001b[0m\u001b[0;34m\u001b[0m\u001b[0;34m\u001b[0m\u001b[0m\n\u001b[0;32m---> 41\u001b[0;31m     \u001b[0mfield\u001b[0m \u001b[0;34m=\u001b[0m \u001b[0mswitch_row_column_major_Hector\u001b[0m\u001b[0;34m(\u001b[0m\u001b[0mfield\u001b[0m\u001b[0;34m,\u001b[0m\u001b[0mdims\u001b[0m\u001b[0;34m)\u001b[0m\u001b[0;34m;\u001b[0m\u001b[0;31m#switch_row_column_major(field,dims);#\u001b[0m\u001b[0;34m\u001b[0m\u001b[0;34m\u001b[0m\u001b[0m\n\u001b[0m\u001b[1;32m     42\u001b[0m \u001b[0;34m\u001b[0m\u001b[0m\n\u001b[1;32m     43\u001b[0m     \u001b[0;32mreturn\u001b[0m \u001b[0mfield\u001b[0m\u001b[0;34m;\u001b[0m\u001b[0;34m\u001b[0m\u001b[0;34m\u001b[0m\u001b[0m\n",
      "\u001b[0;32m/nobackupp12/amondal/Python/Joes_kpp_code/12_16_21/stdio.py\u001b[0m in \u001b[0;36mswitch_row_column_major_Hector\u001b[0;34m(field, dims)\u001b[0m\n\u001b[1;32m    232\u001b[0m             \u001b[0mi1\u001b[0m \u001b[0;34m=\u001b[0m \u001b[0mj\u001b[0m\u001b[0;34m*\u001b[0m\u001b[0mdims\u001b[0m\u001b[0;34m[\u001b[0m\u001b[0;36m0\u001b[0m\u001b[0;34m]\u001b[0m\u001b[0;34m\u001b[0m\u001b[0;34m\u001b[0m\u001b[0m\n\u001b[1;32m    233\u001b[0m             \u001b[0mi2\u001b[0m \u001b[0;34m=\u001b[0m \u001b[0mi1\u001b[0m\u001b[0;34m+\u001b[0m\u001b[0mdims\u001b[0m\u001b[0;34m[\u001b[0m\u001b[0;36m0\u001b[0m\u001b[0;34m]\u001b[0m\u001b[0;34m;\u001b[0m\u001b[0;34m\u001b[0m\u001b[0;34m\u001b[0m\u001b[0m\n\u001b[0;32m--> 234\u001b[0;31m             \u001b[0mPfield\u001b[0m\u001b[0;34m[\u001b[0m\u001b[0mj\u001b[0m\u001b[0;34m,\u001b[0m\u001b[0;34m:\u001b[0m\u001b[0;34m]\u001b[0m \u001b[0;34m=\u001b[0m \u001b[0mfield\u001b[0m\u001b[0;34m[\u001b[0m\u001b[0mi1\u001b[0m\u001b[0;34m:\u001b[0m\u001b[0mi2\u001b[0m\u001b[0;34m]\u001b[0m\u001b[0;34m;\u001b[0m\u001b[0;34m\u001b[0m\u001b[0;34m\u001b[0m\u001b[0m\n\u001b[0m\u001b[1;32m    235\u001b[0m         \u001b[0;31m#Pfield = np.swapaxes(Pfield, 0,1);\u001b[0m\u001b[0;34m\u001b[0m\u001b[0;34m\u001b[0m\u001b[0;34m\u001b[0m\u001b[0m\n\u001b[1;32m    236\u001b[0m     \u001b[0;32melif\u001b[0m \u001b[0;34m(\u001b[0m\u001b[0mndims\u001b[0m\u001b[0;34m==\u001b[0m\u001b[0;36m1\u001b[0m\u001b[0;34m)\u001b[0m\u001b[0;34m:\u001b[0m\u001b[0;34m\u001b[0m\u001b[0;34m\u001b[0m\u001b[0m\n",
      "\u001b[0;31mValueError\u001b[0m: could not broadcast input array from shape (468,) into shape (88,)"
     ]
    }
   ],
   "source": [
    "dims = [288,468,88];\n",
    "data_dir = '/nobackup/amondal/Python/Joes_kpp_code/data/'#'/scratch/p/peltier/jskitka/runs/2km_109l/kpp_all_on/run/';\n",
    "aux_data_dir = '/nobackup/amondal/Python/Joes_kpp_code/Joe_aux_data/'#'/home/p/peltier/jskitka/aux_data/low_res/';\n",
    "home_dir = '/nobackup/amondal/Python/Joes_kpp_code/';#'/scratch/p/peltier/jskitka/diagnostics/kpp_all_on/';\n",
    "save_dir = '/nobackup/amondal/Python/Joes_kpp_code/validate_kpp_save_dir/';#'/scratch/p/peltier/jskitka/diagnostics/kpp_all_on/figures/';\n",
    "os.chdir(home_dir)\n",
    "\n",
    "\n",
    "\n",
    "## Build File List\n",
    "\n",
    "lw = 3; fsize=16;\n",
    "iters = [2];\n",
    "cmax = 1e-6;\n",
    "\n",
    "\n",
    "\n",
    "## Read in the Data\n",
    "\n",
    "trim_ml = 30; # in meters\n",
    "post_hann = [1,1,0]; # this is passed in but not actually used... \n",
    "\n",
    "f = FldsNU();\n",
    "f.load_mitgcm_data(data_dir,aux_data_dir,iters,dims);\n",
    "RHOAnoma = f.load_mitgcm_field('RHOAnoma',data_dir,iters,dims);\n",
    "KPPviscA = f.load_mitgcm_field('KPPviscA',data_dir,iters,dims);\n",
    "KPPdbloc = f.load_mitgcm_field('KPPdbloc',data_dir,iters,dims);\n",
    "KPPRi = f.load_mitgcm_field('KPPRi',data_dir,iters,dims);\n",
    "KPPhbl = f.load_mitgcm_field('KPPhbl',data_dir,iters,dims[0:2]);\n",
    "KPPdU = f.load_mitgcm_field('Um_ImplD',data_dir,iters,dims);\n",
    "KPPdV = f.load_mitgcm_field('Vm_ImplD',data_dir,iters,dims);"
   ]
  },
  {
   "cell_type": "code",
   "execution_count": null,
   "id": "1f2c7524-0227-4671-8801-b6fc09d7d531",
   "metadata": {},
   "outputs": [],
   "source": [
    "f.S.shape"
   ]
  },
  {
   "cell_type": "code",
   "execution_count": 4,
   "id": "93fb6f1b-21e9-4155-9097-9a78e177c4ed",
   "metadata": {},
   "outputs": [],
   "source": [
    "dims = [87, 2400, 2400]; #Hector's code has 87 layers\n",
    "data_dir = '/nobackup/amondal/Python/Joes_kpp_code/Hector_Sub_Data/'#'/scratch/p/peltier/jskitka/runs/2km_109l/kpp_all_on/run/';\n",
    "aux_data_dir = '/nobackup/amondal/Python/Joes_kpp_code/Hector_Sub_Data/';#'/home/p/peltier/jskitka/aux_data/low_res/';\n",
    "home_dir ='/nobackup/amondal/Python/Joes_kpp_code/'#'/scratch/p/peltier/jskitka/diagnostics/kpp_all_on/';\n",
    "save_dir = '/nobackup/amondal/Python/Joes_kpp_code/validate_Hector_kpp_save_dir/'#'/scratch/p/peltier/jskitka/diagnostics/kpp_all_on/figures/';\n",
    "os.chdir(home_dir)"
   ]
  },
  {
   "cell_type": "code",
   "execution_count": 5,
   "id": "af9f350b-44c6-4b7b-a316-57b8e63deb1b",
   "metadata": {},
   "outputs": [
    {
     "data": {
      "text/plain": [
       "3"
      ]
     },
     "execution_count": 5,
     "metadata": {},
     "output_type": "execute_result"
    }
   ],
   "source": [
    "len(np.flip(dims))"
   ]
  },
  {
   "cell_type": "code",
   "execution_count": 6,
   "id": "40c4a4a2-0c5e-407e-8784-4af6e3c63841",
   "metadata": {},
   "outputs": [],
   "source": [
    "## Build File List\n",
    "\n",
    "lw = 3; fsize=16;\n",
    "iters = [798408];\n",
    "cmax = 1e-6;\n",
    "\n",
    "\n",
    "## Read in the Data\n",
    "\n",
    "trim_ml = 30; # in meters\n",
    "post_hann = [1,1,0]; # this is passed in but not actually used... \n",
    "\n",
    "#f = FldsNU();"
   ]
  },
  {
   "cell_type": "code",
   "execution_count": 7,
   "id": "1a6d7c9b-d4f0-465d-9ec3-0a161ec1f8d1",
   "metadata": {},
   "outputs": [],
   "source": [
    "import numpy as np\n",
    "nt = len(iters);\n",
    "field = np.empty(dims + [nt])\n",
    "filename = data_dir + 'S.' + str(iters[0]).rjust(10,'0') + '.data';\n",
    "fid = open(filename, 'rb')\n",
    "f = np.fromfile(fid, dtype=np.dtype('>f4'), count = np.prod(dims))"
   ]
  },
  {
   "cell_type": "code",
   "execution_count": 8,
   "id": "7bcac860-a9f3-4086-9cf2-9c274fff3362",
   "metadata": {},
   "outputs": [
    {
     "data": {
      "text/plain": [
       "501120000"
      ]
     },
     "execution_count": 8,
     "metadata": {},
     "output_type": "execute_result"
    }
   ],
   "source": [
    "2400*2400*87"
   ]
  },
  {
   "cell_type": "code",
   "execution_count": null,
   "id": "765d2506-3bc5-4cdd-a2ce-df1fe6097c61",
   "metadata": {},
   "outputs": [],
   "source": []
  },
  {
   "cell_type": "code",
   "execution_count": 9,
   "id": "59777f12-1180-4392-9cfc-ea18620d7755",
   "metadata": {},
   "outputs": [],
   "source": [
    "dims = [87, 2400, 2400];\n",
    "ndims = len(dims);\n",
    "Pfield = np.zeros(dims);\n",
    "for k in range(0,dims[0]):\n",
    "    for j in range(0,dims[1]):\n",
    "        i1 = k*dims[1]*dims[2] + j*dims[2]\n",
    "        i2 = i1+dims[2];\n",
    "        Pfield[k,j,:] = f[i1:i2];"
   ]
  },
  {
   "cell_type": "code",
   "execution_count": 10,
   "id": "e5c38fba-679c-4b1f-b0dd-898142858e99",
   "metadata": {},
   "outputs": [
    {
     "ename": "NameError",
     "evalue": "name 'S' is not defined",
     "output_type": "error",
     "traceback": [
      "\u001b[0;31m---------------------------------------------------------------------------\u001b[0m",
      "\u001b[0;31mNameError\u001b[0m                                 Traceback (most recent call last)",
      "\u001b[0;32m<ipython-input-10-c8f264ba00fc>\u001b[0m in \u001b[0;36m<module>\u001b[0;34m\u001b[0m\n\u001b[0;32m----> 1\u001b[0;31m \u001b[0mnp\u001b[0m\u001b[0;34m.\u001b[0m\u001b[0mnansum\u001b[0m\u001b[0;34m(\u001b[0m\u001b[0mPfield\u001b[0m \u001b[0;34m-\u001b[0m \u001b[0mS\u001b[0m\u001b[0;34m)\u001b[0m\u001b[0;34m\u001b[0m\u001b[0;34m\u001b[0m\u001b[0m\n\u001b[0m",
      "\u001b[0;31mNameError\u001b[0m: name 'S' is not defined"
     ]
    }
   ],
   "source": [
    "np.nansum(Pfield - S)"
   ]
  },
  {
   "cell_type": "code",
   "execution_count": null,
   "id": "b87a01e5-74e9-475b-99fa-e918fc5bee42",
   "metadata": {},
   "outputs": [],
   "source": [
    "Pfield.shape"
   ]
  },
  {
   "cell_type": "code",
   "execution_count": null,
   "id": "47b1ff7b-96d0-4abe-92e1-499d6caab582",
   "metadata": {},
   "outputs": [],
   "source": [
    "Pfield_switch = np.swapaxes(Pfield, 0, 2)"
   ]
  },
  {
   "cell_type": "code",
   "execution_count": null,
   "id": "a18d895d-a7a7-4357-a608-5e5890050a37",
   "metadata": {},
   "outputs": [],
   "source": [
    "Pfield_switch.shape"
   ]
  },
  {
   "cell_type": "code",
   "execution_count": null,
   "id": "a1683bd4-2818-4f13-ba49-7be85f1b90ee",
   "metadata": {},
   "outputs": [],
   "source": [
    "f[i1:i2].shape"
   ]
  },
  {
   "cell_type": "code",
   "execution_count": null,
   "id": "4bf8aa7e-7bae-4b98-b6ff-bff1a8d81b50",
   "metadata": {},
   "outputs": [],
   "source": [
    "f[0:2400]"
   ]
  },
  {
   "cell_type": "code",
   "execution_count": null,
   "id": "c46b12e5-a8f7-46f3-8817-976b051e5990",
   "metadata": {},
   "outputs": [],
   "source": [
    "S[0,0, 0:2400]"
   ]
  },
  {
   "cell_type": "code",
   "execution_count": null,
   "id": "ec4b9aba-31fc-45dd-bfdd-2872cde220ef",
   "metadata": {},
   "outputs": [],
   "source": [
    "2400*2400"
   ]
  },
  {
   "cell_type": "code",
   "execution_count": null,
   "id": "af40c452-1ca3-48e1-b8fa-57c44fe341bb",
   "metadata": {},
   "outputs": [],
   "source": [
    "(f[5760001:5762401] - S[1,0, 0:2400]).sum()\n",
    "#(f[2401:4801] - S[0,0:2400]).sum()"
   ]
  },
  {
   "cell_type": "code",
   "execution_count": null,
   "id": "32c9ac92-231a-4923-aab5-df2e907437b5",
   "metadata": {},
   "outputs": [],
   "source": [
    "f.S = ft.rdmds(data_dir + 'S',iters, [2400, 2400, 87], 'S');"
   ]
  },
  {
   "cell_type": "code",
   "execution_count": null,
   "id": "9ba382c3-eb07-4608-ab34-b5b0a6a377f6",
   "metadata": {},
   "outputs": [],
   "source": [
    "f.S.shape"
   ]
  },
  {
   "cell_type": "code",
   "execution_count": null,
   "id": "388b37df-45f3-453e-ab4f-018306e4b470",
   "metadata": {},
   "outputs": [],
   "source": [
    "300*300*87"
   ]
  },
  {
   "cell_type": "code",
   "execution_count": null,
   "id": "8f7f5bb8-d338-4066-a23b-968473538c5f",
   "metadata": {},
   "outputs": [],
   "source": [
    "f.shape"
   ]
  },
  {
   "cell_type": "code",
   "execution_count": null,
   "id": "5f5fab67-0889-40ec-997b-e364e7b2efc1",
   "metadata": {},
   "outputs": [],
   "source": [
    "field[:,:,:,0] = ft.switch_row_column_major(f,dims);"
   ]
  },
  {
   "cell_type": "code",
   "execution_count": null,
   "id": "42d89077-ef5d-48b2-a1d2-cffc0f23cc32",
   "metadata": {},
   "outputs": [],
   "source": [
    "field.shape"
   ]
  },
  {
   "cell_type": "code",
   "execution_count": null,
   "id": "8f607f0e-d309-461d-a15d-7f8ca269d146",
   "metadata": {},
   "outputs": [],
   "source": [
    "lonc = ft.read_bin(aux_data_dir + 'LONC', (1, 2400, 2400));"
   ]
  },
  {
   "cell_type": "code",
   "execution_count": null,
   "id": "c4cb4ec9-1c0e-4dc4-9eac-ccbd11fb0264",
   "metadata": {},
   "outputs": [],
   "source": [
    "lonc.shape"
   ]
  },
  {
   "cell_type": "code",
   "execution_count": null,
   "id": "690ff6b8-ca25-4734-9f46-84067d96ee6c",
   "metadata": {},
   "outputs": [],
   "source": [
    "lonc = ft.read_bin(aux_data_dir + 'LONC', (1, 2400, 2400));\n",
    "long = ft.read_bin(aux_data_dir + 'LONG', (1, 2400, 2400));\n",
    "latc = ft.read_bin(aux_data_dir + 'LATC', (1, 2400, 2400));\n",
    "latg = ft.read_bin(aux_data_dir + 'LATG', (1, 2400, 2400));"
   ]
  },
  {
   "cell_type": "code",
   "execution_count": null,
   "id": "c1e3e098-63c4-4398-a48a-cedfa581292e",
   "metadata": {},
   "outputs": [],
   "source": [
    "import matplotlib.pyplot as plt\n",
    "%matplotlib inline\n",
    "plt.imshow(lonc[0, :, :])\n",
    "plt.colorbar()"
   ]
  },
  {
   "cell_type": "code",
   "execution_count": null,
   "id": "07dfa0db-90c7-4e29-bb27-0a0840e08da4",
   "metadata": {},
   "outputs": [],
   "source": [
    "%matplotlib inline\n",
    "plt.imshow(c.lon)"
   ]
  },
  {
   "cell_type": "code",
   "execution_count": null,
   "id": "97098658-5098-4cb6-9d91-1d2631c219ac",
   "metadata": {},
   "outputs": [],
   "source": [
    "import matplotlib.pyplot as plt\n",
    "%matplotlib inline\n",
    "plt.imshow(long[0, :,:])\n",
    "plt.colorbar()"
   ]
  },
  {
   "cell_type": "code",
   "execution_count": null,
   "id": "16ac018e-6d58-4201-831d-b060c6772747",
   "metadata": {},
   "outputs": [],
   "source": [
    "%matplotlib inline\n",
    "plt.imshow(c.long)"
   ]
  },
  {
   "cell_type": "code",
   "execution_count": null,
   "id": "bf12779e-c9c6-42c6-984d-fa51d28f3d8c",
   "metadata": {},
   "outputs": [],
   "source": [
    "import matplotlib.pyplot as plt\n",
    "%matplotlib inline\n",
    "plt.imshow(latc[0, :, :])\n",
    "plt.colorbar()"
   ]
  },
  {
   "cell_type": "code",
   "execution_count": null,
   "id": "25be685b-c4cf-442d-8483-c8646e2012c7",
   "metadata": {},
   "outputs": [],
   "source": [
    "%matplotlib inline\n",
    "plt.imshow(c.lat)"
   ]
  },
  {
   "cell_type": "code",
   "execution_count": null,
   "id": "ef7c9e8e-495b-4a70-83c5-736767eefff5",
   "metadata": {},
   "outputs": [],
   "source": [
    "plt.imshow(latg[0,:,:])\n",
    "plt.colorbar()"
   ]
  },
  {
   "cell_type": "code",
   "execution_count": null,
   "id": "0c454e9f-c3aa-4be8-ab3f-2472928f0afb",
   "metadata": {},
   "outputs": [],
   "source": [
    "%load_ext autoreload"
   ]
  },
  {
   "cell_type": "code",
   "execution_count": 1,
   "id": "dbe85ca3-0b5b-4ac7-ab47-e7993fa91d4b",
   "metadata": {},
   "outputs": [
    {
     "name": "stdout",
     "output_type": "stream",
     "text": [
      "max S = 34.699256896972656\n",
      "min S = 0.0\n",
      "max T = 24.92448616027832\n",
      "min T = 0.0\n",
      "max U = 2.2401888370513916\n",
      "min U = -1.31050443649292\n",
      "max V = 1.7340795993804932\n",
      "min V = -1.354968547821045\n",
      "max W = 0.14884014427661896\n",
      "min W = -0.17961512506008148\n",
      "min depth = 0.0\n",
      "max depth = 5442.7119140625\n",
      "delR is missing. I'll try RF instead\n",
      "max Z = 0.0\n",
      "min Z = -5681.69\n",
      "min thknss = 0.0\n",
      "max thknss = 334.63965\n"
     ]
    }
   ],
   "source": [
    "import os\n",
    "import sys\n",
    "sys.path.append(\"12_16_21\")\n",
    "import numpy as np\n",
    "import fld_tools as ft\n",
    "import matplotlib.pyplot as plt\n",
    "import matplotlib.colors as colors\n",
    "from repmat import repmat\n",
    "from flds import FldsU\n",
    "from flds import FldsNU\n",
    "#sys.path.append('/nobackup/htorresg/DopplerScat/modelling/GS/programs/tools')\n",
    "sys.path.append('/u/htorresg/Experiment_CCS/programas/tools')\n",
    "sys.path.append('/nobackup/amondal/Python/CCS_Analysis')\n",
    "import handle_mitgcm as model\n",
    "import params_500mSNAPS_joecode as p\n",
    "\n",
    "\n",
    "dims = [87, 2400,2400]; #Hector's code has 87 layers # I think switching the height might fix the switch_column_row function (7/7/22)\n",
    "truncdims = [0, 300, 0, 300, 0, 87];\n",
    "data_dir = '/nobackup/amondal/Python/Joes_kpp_code/Hector_Sub_Data/'#'/scratch/p/peltier/jskitka/runs/2km_109l/kpp_all_on/run/';\n",
    "aux_data_dir = '/nobackup/amondal/Python/Joes_kpp_code/Hector_Sub_Data/';#'/home/p/peltier/jskitka/aux_data/low_res/';\n",
    "home_dir ='/nobackup/amondal/Python/Joes_kpp_code/'#'/scratch/p/peltier/jskitka/diagnostics/kpp_all_on/';\n",
    "save_dir = '/nobackup/amondal/Python/Joes_kpp_code/validate_Hector_kpp_save_dir/'#'/scratch/p/peltier/jskitka/diagnostics/kpp_all_on/figures/';\n",
    "os.chdir(home_dir)\n",
    "\n",
    "\n",
    "\n",
    "## Build File List\n",
    "\n",
    "lw = 3; fsize=16;\n",
    "iters = [798408, 798552];\n",
    "cmax = 1e-6;\n",
    "\n",
    "c = model.LLChires(p.dirc, p.dirc, p.nx, p.ny, p.nz, p.tini, p.tref, p.tend, p.steps,p.rate, p.timedelta);\n",
    "\n",
    "## Read in the Data\n",
    "\n",
    "trim_ml = 30; # in meters\n",
    "post_hann = [1,1,0]; # this is passed in but not actually used... \n",
    "\n",
    "f = FldsNU();\n",
    "f.load_mitgcm_data_trunc(data_dir,aux_data_dir,iters,dims, truncdims);"
   ]
  },
  {
   "cell_type": "code",
   "execution_count": 13,
   "id": "fb233316-3a0b-4e1d-afb7-6083a31dfa9f",
   "metadata": {},
   "outputs": [
    {
     "data": {
      "text/plain": [
       "(299, 299, 87, 2)"
      ]
     },
     "execution_count": 13,
     "metadata": {},
     "output_type": "execute_result"
    }
   ],
   "source": [
    "f.S.shape"
   ]
  },
  {
   "cell_type": "code",
   "execution_count": 12,
   "id": "f2a97d83-70ee-408b-b4a0-90b391b69dfe",
   "metadata": {},
   "outputs": [
    {
     "data": {
      "text/plain": [
       "(299, 299, 87, 2)"
      ]
     },
     "execution_count": 12,
     "metadata": {},
     "output_type": "execute_result"
    }
   ],
   "source": [
    "p = (np.cumsum(f.thknss,axis=2)-0.5*f.thknss)*9.81*1035/10000 + 10;\n",
    "p.shape"
   ]
  },
  {
   "cell_type": "code",
   "execution_count": 7,
   "id": "daad745a-2241-4789-8e8f-f3a93b6b53dc",
   "metadata": {},
   "outputs": [
    {
     "ename": "AttributeError",
     "evalue": "'FldsNU' object has no attribute 'p'",
     "output_type": "error",
     "traceback": [
      "\u001b[0;31m---------------------------------------------------------------------------\u001b[0m",
      "\u001b[0;31mAttributeError\u001b[0m                            Traceback (most recent call last)",
      "\u001b[0;32m<ipython-input-7-a4670f1d038c>\u001b[0m in \u001b[0;36m<module>\u001b[0;34m\u001b[0m\n\u001b[0;32m----> 1\u001b[0;31m \u001b[0mf\u001b[0m\u001b[0;34m.\u001b[0m\u001b[0mp\u001b[0m\u001b[0;34m[\u001b[0m\u001b[0;34m:\u001b[0m\u001b[0;34m,\u001b[0m\u001b[0;34m:\u001b[0m\u001b[0;34m,\u001b[0m\u001b[0;36m4\u001b[0m\u001b[0;34m,\u001b[0m\u001b[0;36m0\u001b[0m\u001b[0;34m]\u001b[0m\u001b[0;34m.\u001b[0m\u001b[0mshape\u001b[0m\u001b[0;34m\u001b[0m\u001b[0;34m\u001b[0m\u001b[0m\n\u001b[0m",
      "\u001b[0;31mAttributeError\u001b[0m: 'FldsNU' object has no attribute 'p'"
     ]
    }
   ],
   "source": [
    "f.p[:,:,4,0].shape"
   ]
  },
  {
   "cell_type": "code",
   "execution_count": 5,
   "id": "7606e020-0e4b-4b73-b176-8b0e7927b016",
   "metadata": {},
   "outputs": [
    {
     "data": {
      "text/plain": [
       "(299, 299)"
      ]
     },
     "execution_count": 5,
     "metadata": {},
     "output_type": "execute_result"
    }
   ],
   "source": [
    "np.squeeze(f.pgrid[:,:,0]).shape"
   ]
  },
  {
   "cell_type": "code",
   "execution_count": 6,
   "id": "526c9436-fa3d-4b08-96b3-71099317870c",
   "metadata": {},
   "outputs": [
    {
     "data": {
      "text/plain": [
       "<matplotlib.image.AxesImage at 0x2ab48f78fe80>"
      ]
     },
     "execution_count": 6,
     "metadata": {},
     "output_type": "execute_result"
    },
    {
     "data": {
      "image/png": "[encoded data removed]",
      "text/plain": [
       "<Figure size 432x288 with 1 Axes>"
      ]
     },
     "metadata": {
      "needs_background": "light"
     },
     "output_type": "display_data"
    }
   ],
   "source": [
    "%matplotlib inline\n",
    "plt.imshow(f.pgrid[:,:,0])"
   ]
  },
  {
   "cell_type": "code",
   "execution_count": 7,
   "id": "e9866183-2106-4b02-8b3f-95f7518e773e",
   "metadata": {},
   "outputs": [
    {
     "data": {
      "text/plain": [
       "<matplotlib.image.AxesImage at 0x2ab48f87b760>"
      ]
     },
     "execution_count": 7,
     "metadata": {},
     "output_type": "execute_result"
    },
    {
     "data": {
      "image/png": "[encoded data removed]",
      "text/plain": [
       "<Figure size 432x288 with 1 Axes>"
      ]
     },
     "metadata": {
      "needs_background": "light"
     },
     "output_type": "display_data"
    }
   ],
   "source": [
    "plt.imshow(f.pgrid[:,:,1])"
   ]
  },
  {
   "cell_type": "code",
   "execution_count": 2,
   "id": "0c20b3b2-0901-4042-8065-c56e5b435c80",
   "metadata": {},
   "outputs": [],
   "source": [
    "truncdims = [0, 300, 0, 300, 0, 87];\n",
    "KPPviscA = f.load_mitgcm_field_trunc('KPPviscA', data_dir, iters,dims,truncdims);#f.load_mitgcm_field('KPPviscA',data_dir,iters,dims);\n",
    "KPPhbl = f.load_mitgcm_field_trunc('KPPhbl',data_dir,iters,dims[1:3], truncdims[0:4]);\n",
    "#KPPviscA = c.loadding_3D_data(p.dirc+'KPPviscA.%010i.data'%iters[0], maxlevel, 'tracer')\n",
    "# Can we set f's KPPvisc equal to c's KPPviscA?\n",
    "\n",
    "\n",
    "\n",
    "\n",
    "## - Compute KPP Diagnostic Parameters\n",
    "\n",
    "#(dU,dV,viscAz,dbloc) = f.compute_kpp_diag(post_hann,trim_ml);"
   ]
  },
  {
   "cell_type": "code",
   "execution_count": 3,
   "id": "04eff6f7-7dbb-49c7-8fa5-242f5bf9cf8d",
   "metadata": {},
   "outputs": [
    {
     "data": {
      "text/plain": [
       "(300, 300, 87, 2)"
      ]
     },
     "execution_count": 3,
     "metadata": {},
     "output_type": "execute_result"
    }
   ],
   "source": [
    "KPPviscA.shape"
   ]
  },
  {
   "cell_type": "code",
   "execution_count": 5,
   "id": "0a45adce-3bd0-4d9f-84b2-972fe9b5a2c3",
   "metadata": {},
   "outputs": [
    {
     "data": {
      "text/plain": [
       "<matplotlib.colorbar.Colorbar at 0x2ab43953e6a0>"
      ]
     },
     "execution_count": 5,
     "metadata": {},
     "output_type": "execute_result"
    },
    {
     "data": {
      "image/png": "[encoded data removed]",
      "text/plain": [
       "<Figure size 432x288 with 2 Axes>"
      ]
     },
     "metadata": {
      "needs_background": "light"
     },
     "output_type": "display_data"
    }
   ],
   "source": [
    "%matplotlib inline\n",
    "plt.imshow(KPPviscA[:, 50, 20:, 1].T)\n",
    "plt.colorbar()"
   ]
  },
  {
   "cell_type": "code",
   "execution_count": 6,
   "id": "2abb52fe-6758-4e59-a324-7c685b80d313",
   "metadata": {},
   "outputs": [
    {
     "name": "stdout",
     "output_type": "stream",
     "text": [
      "in compute_nu_kpp()\n",
      "viscArNr = 0.00056614\n",
      "Riinfty = 0.6998\n"
     ]
    },
    {
     "name": "stderr",
     "output_type": "stream",
     "text": [
      "/nobackupp12/amondal/Python/Joes_kpp_code/compute_nu_kpp.py:144: UserWarning: thknss needs adapting for HYCOM, etc.\n",
      "  warnings.warn(\"thknss needs adapting for HYCOM, etc.\");\n",
      "/nobackupp12/amondal/Python/Joes_kpp_code/12_16_21/vert_grid_mitgcm.py:18: UserWarning: thknss needs adapting for HYCOM, etc.\n",
      "  warnings.warn(\"thknss needs adapting for HYCOM, etc.\");\n"
     ]
    }
   ],
   "source": [
    "(dU,dV,viscAz,dbloc) = f.compute_kpp_diag(post_hann,trim_ml);"
   ]
  },
  {
   "cell_type": "code",
   "execution_count": 6,
   "id": "0ffe0d2b-160c-4ee4-9aa0-d1495522d34f",
   "metadata": {},
   "outputs": [
    {
     "data": {
      "text/plain": [
       "(300, 300, 87, 1)"
      ]
     },
     "execution_count": 6,
     "metadata": {},
     "output_type": "execute_result"
    }
   ],
   "source": [
    "KPPviscA.shape"
   ]
  },
  {
   "cell_type": "code",
   "execution_count": 7,
   "id": "be53c006-6da1-4889-937e-8ff010111556",
   "metadata": {},
   "outputs": [
    {
     "data": {
      "text/plain": [
       "(299, 299, 87, 2)"
      ]
     },
     "execution_count": 7,
     "metadata": {},
     "output_type": "execute_result"
    }
   ],
   "source": [
    "viscAz.shape"
   ]
  },
  {
   "cell_type": "code",
   "execution_count": 11,
   "id": "73dc1a7b-28cd-49f0-bb5f-831754942bd2",
   "metadata": {},
   "outputs": [
    {
     "data": {
      "text/plain": [
       "array([[0.00056614, 0.00056614, 0.00056614, ..., 0.00056614, 0.00056614,\n",
       "        0.00056614],\n",
       "       [0.00056614, 0.00056614, 0.00056614, ..., 0.00056614, 0.00056614,\n",
       "        0.00056614],\n",
       "       [0.00056614, 0.00056614, 0.00056614, ..., 0.00056614, 0.00056614,\n",
       "        0.00056614],\n",
       "       ...,\n",
       "       [0.00056614, 0.00056614, 0.00056614, ..., 0.00056614, 0.00056614,\n",
       "        0.00056614],\n",
       "       [0.00056614, 0.00056614, 0.00056614, ..., 0.00056614, 0.00056614,\n",
       "        0.00056614],\n",
       "       [0.00056614, 0.00056614, 0.00056614, ..., 0.00056614, 0.00056614,\n",
       "        0.00056614]])"
      ]
     },
     "execution_count": 11,
     "metadata": {},
     "output_type": "execute_result"
    }
   ],
   "source": [
    "viscAz[:,:,20,0]"
   ]
  },
  {
   "cell_type": "code",
   "execution_count": 10,
   "id": "f2f84350-f38a-4c11-bbc9-43d4c8bcb802",
   "metadata": {},
   "outputs": [
    {
     "data": {
      "text/plain": [
       "array([[0.00056614, 0.00056614, 0.00056614, ..., 0.00056614, 0.00056614,\n",
       "        0.00056614],\n",
       "       [0.00056614, 0.00056614, 0.00056614, ..., 0.00056614, 0.00056614,\n",
       "        0.00056614],\n",
       "       [0.00056614, 0.00056614, 0.00056614, ..., 0.00056614, 0.00056614,\n",
       "        0.00056614],\n",
       "       ...,\n",
       "       [0.00056614, 0.00056614, 0.00056614, ..., 0.00056614, 0.00056614,\n",
       "        0.00056614],\n",
       "       [0.00056614, 0.00056614, 0.00056614, ..., 0.00056614, 0.00056614,\n",
       "        0.00056614],\n",
       "       [0.00056614, 0.00056614, 0.00056614, ..., 0.00056614, 0.00056614,\n",
       "        0.00056614]])"
      ]
     },
     "execution_count": 10,
     "metadata": {},
     "output_type": "execute_result"
    }
   ],
   "source": [
    "KPPviscA[:,:,20,0]"
   ]
  },
  {
   "cell_type": "code",
   "execution_count": 12,
   "id": "9ee8a8a7-2a36-47f7-9b78-07e7a0f872c5",
   "metadata": {},
   "outputs": [
    {
     "data": {
      "text/plain": [
       "<matplotlib.colorbar.Colorbar at 0x2aaf8e90ed30>"
      ]
     },
     "execution_count": 12,
     "metadata": {},
     "output_type": "execute_result"
    },
    {
     "data": {
      "image/png": "[encoded data removed]",
      "text/plain": [
       "<Figure size 432x288 with 2 Axes>"
      ]
     },
     "metadata": {
      "needs_background": "light"
     },
     "output_type": "display_data"
    }
   ],
   "source": [
    "%matplotlib inline\n",
    "plt.imshow(viscAz[:,:,20,0].T)\n",
    "plt.colorbar()"
   ]
  },
  {
   "cell_type": "code",
   "execution_count": 14,
   "id": "58e64f0f-1fb2-4e8c-b85b-c17ade190318",
   "metadata": {},
   "outputs": [
    {
     "data": {
      "text/plain": [
       "<matplotlib.colorbar.Colorbar at 0x2aaf8ea58d30>"
      ]
     },
     "execution_count": 14,
     "metadata": {},
     "output_type": "execute_result"
    },
    {
     "data": {
      "image/png": "[encoded data removed]",
      "text/plain": [
       "<Figure size 432x288 with 2 Axes>"
      ]
     },
     "metadata": {
      "needs_background": "light"
     },
     "output_type": "display_data"
    }
   ],
   "source": [
    "%matplotlib inline\n",
    "plt.imshow(KPPviscA[:,:,20,0].T)\n",
    "plt.colorbar()"
   ]
  },
  {
   "cell_type": "code",
   "execution_count": 18,
   "id": "08bd6616-55e3-40e6-93a4-c10be1de8f89",
   "metadata": {},
   "outputs": [
    {
     "data": {
      "text/plain": [
       "array([[[            nan, -3.57046966e-01,  4.08030521e-02, ...,\n",
       "                     nan,             nan,             nan],\n",
       "        [            nan, -2.73323276e+00, -1.35329097e+00, ...,\n",
       "                     nan,             nan,             nan],\n",
       "        [            nan, -2.68839276e+00, -1.28039031e+00, ...,\n",
       "                     nan,             nan,             nan],\n",
       "        ...,\n",
       "        [            nan, -2.50909370e+00, -9.76485524e-01, ...,\n",
       "         -1.43765913e-08, -1.43765913e-08,             nan],\n",
       "        [            nan, -2.30660316e+00, -8.12269303e-01, ...,\n",
       "         -1.43765913e-08, -1.43765913e-08,             nan],\n",
       "        [            nan, -2.17664944e+00, -7.39156128e-01, ...,\n",
       "         -1.43765913e-08, -1.43765913e-08,             nan]],\n",
       "\n",
       "       [[            nan, -1.79165407e+00, -4.55850248e-01, ...,\n",
       "                     nan,             nan,             nan],\n",
       "        [            nan, -2.71717878e+00, -1.63838178e+00, ...,\n",
       "                     nan,             nan,             nan],\n",
       "        [            nan, -2.66793092e+00, -1.55109404e+00, ...,\n",
       "                     nan,             nan,             nan],\n",
       "        ...,\n",
       "        [            nan, -3.03370980e+00, -2.04667025e+00, ...,\n",
       "         -1.43765913e-08, -1.43765913e-08,             nan],\n",
       "        [            nan, -2.99743386e+00, -2.00645167e+00, ...,\n",
       "         -1.43765913e-08, -1.43765913e-08,             nan],\n",
       "        [            nan, -3.01436706e+00, -2.09419305e+00, ...,\n",
       "         -1.43765913e-08, -1.43765913e-08,             nan]],\n",
       "\n",
       "       [[            nan, -1.83336452e+00, -4.84203034e-01, ...,\n",
       "                     nan,             nan,             nan],\n",
       "        [            nan, -2.72543010e+00, -1.63860121e+00, ...,\n",
       "                     nan,             nan,             nan],\n",
       "        [            nan, -2.69774494e+00, -1.58718792e+00, ...,\n",
       "                     nan,             nan,             nan],\n",
       "        ...,\n",
       "        [            nan, -3.01541328e+00, -2.05230562e+00, ...,\n",
       "         -1.43765913e-08, -1.43765913e-08,             nan],\n",
       "        [            nan, -3.03341255e+00, -2.10102805e+00, ...,\n",
       "         -1.43765913e-08, -1.43765913e-08,             nan],\n",
       "        [            nan, -3.04522432e+00, -2.13763744e+00, ...,\n",
       "         -1.43765913e-08, -1.43765913e-08,             nan]],\n",
       "\n",
       "       ...,\n",
       "\n",
       "       [[            nan, -3.66162703e+00, -1.73723630e+00, ...,\n",
       "                     nan,             nan,             nan],\n",
       "        [            nan, -2.92568753e+00, -1.69434853e+00, ...,\n",
       "                     nan,             nan,             nan],\n",
       "        [            nan, -2.91718415e+00, -1.74328574e+00, ...,\n",
       "                     nan,             nan,             nan],\n",
       "        ...,\n",
       "        [            nan, -2.79659953e+00, -1.29575462e+00, ...,\n",
       "                     nan,             nan,             nan],\n",
       "        [            nan, -2.83891091e+00, -1.36032491e+00, ...,\n",
       "                     nan,             nan,             nan],\n",
       "        [            nan, -2.93630409e+00, -1.53414825e+00, ...,\n",
       "                     nan,             nan,             nan]],\n",
       "\n",
       "       [[            nan, -3.67959638e+00, -1.75826501e+00, ...,\n",
       "                     nan,             nan,             nan],\n",
       "        [            nan, -2.91591061e+00, -1.67967952e+00, ...,\n",
       "                     nan,             nan,             nan],\n",
       "        [            nan, -2.91500810e+00, -1.75295213e+00, ...,\n",
       "                     nan,             nan,             nan],\n",
       "        ...,\n",
       "        [            nan, -2.71854819e+00, -1.16787265e+00, ...,\n",
       "                     nan,             nan,             nan],\n",
       "        [            nan, -2.78828067e+00, -1.28634233e+00, ...,\n",
       "                     nan,             nan,             nan],\n",
       "        [            nan, -2.87255519e+00, -1.42809705e+00, ...,\n",
       "                     nan,             nan,             nan]],\n",
       "\n",
       "       [[            nan, -3.65495765e+00, -1.85473316e+00, ...,\n",
       "                     nan,             nan,             nan],\n",
       "        [            nan, -2.92342873e+00, -1.79755883e+00, ...,\n",
       "                     nan,             nan,             nan],\n",
       "        [            nan, -2.90086853e+00, -1.77795398e+00, ...,\n",
       "                     nan,             nan,             nan],\n",
       "        ...,\n",
       "        [            nan, -2.82329039e+00, -1.36860488e+00, ...,\n",
       "                     nan,             nan,             nan],\n",
       "        [            nan, -2.89523903e+00, -1.50507790e+00, ...,\n",
       "                     nan,             nan,             nan],\n",
       "        [            nan, -2.99345966e+00, -1.67681331e+00, ...,\n",
       "                     nan,             nan,             nan]]])"
      ]
     },
     "execution_count": 18,
     "metadata": {},
     "output_type": "execute_result"
    }
   ],
   "source": [
    "(KPPviscA[:-1,:-1,:,0] - viscAz[:, :, :, 0]) / (KPPviscA[:-1,:-1, :, 0])"
   ]
  },
  {
   "cell_type": "code",
   "execution_count": 19,
   "id": "e64cccaf-7ea3-49bc-86dc-b745be27a2f8",
   "metadata": {},
   "outputs": [
    {
     "data": {
      "text/plain": [
       "array([[-1.43765913e-08, -1.43765913e-08, -1.43765913e-08, ...,\n",
       "        -1.43765913e-08, -1.43765913e-08, -1.43765913e-08],\n",
       "       [-1.43765913e-08, -1.43765913e-08, -1.43765913e-08, ...,\n",
       "        -1.43765913e-08, -1.43765913e-08, -1.43765913e-08],\n",
       "       [-1.43765913e-08, -1.43765913e-08, -1.43765913e-08, ...,\n",
       "        -1.43765913e-08, -1.43765913e-08, -1.43765913e-08],\n",
       "       ...,\n",
       "       [-1.43765913e-08, -1.43765913e-08, -1.43765913e-08, ...,\n",
       "        -1.43765913e-08, -1.43765913e-08, -1.43765913e-08],\n",
       "       [-1.43765913e-08, -1.43765913e-08, -1.43765913e-08, ...,\n",
       "        -1.43765913e-08, -1.43765913e-08, -1.43765913e-08],\n",
       "       [-1.43765913e-08, -1.43765913e-08, -1.43765913e-08, ...,\n",
       "        -1.43765913e-08, -1.43765913e-08, -1.43765913e-08]])"
      ]
     },
     "execution_count": 19,
     "metadata": {},
     "output_type": "execute_result"
    }
   ],
   "source": [
    "(KPPviscA[1:,1:,20,0] - viscAz[:, :, 20, 0]) / (KPPviscA[1:,1:, 20, 0])"
   ]
  },
  {
   "cell_type": "markdown",
   "id": "412d759f-e8dd-4c3b-afcd-924f51da9c9b",
   "metadata": {},
   "source": [
    "So it seems like Joe's code shifts the x and y coordinates one forward. That makes sense if there are derivatives in x and y (which you would expect for "
   ]
  },
  {
   "cell_type": "code",
   "execution_count": 21,
   "id": "98e1cda8-be3e-4040-ad2f-3d710870d6af",
   "metadata": {},
   "outputs": [
    {
     "ename": "TypeError",
     "evalue": "Invalid shape (1, 87, 300) for image data",
     "output_type": "error",
     "traceback": [
      "\u001b[0;31m---------------------------------------------------------------------------\u001b[0m",
      "\u001b[0;31mTypeError\u001b[0m                                 Traceback (most recent call last)",
      "\u001b[0;32m<ipython-input-21-eec52414ed0d>\u001b[0m in \u001b[0;36m<module>\u001b[0;34m\u001b[0m\n\u001b[1;32m      1\u001b[0m \u001b[0mget_ipython\u001b[0m\u001b[0;34m(\u001b[0m\u001b[0;34m)\u001b[0m\u001b[0;34m.\u001b[0m\u001b[0mrun_line_magic\u001b[0m\u001b[0;34m(\u001b[0m\u001b[0;34m'matplotlib'\u001b[0m\u001b[0;34m,\u001b[0m \u001b[0;34m'inline'\u001b[0m\u001b[0;34m)\u001b[0m\u001b[0;34m\u001b[0m\u001b[0;34m\u001b[0m\u001b[0m\n\u001b[0;32m----> 2\u001b[0;31m \u001b[0mplt\u001b[0m\u001b[0;34m.\u001b[0m\u001b[0mimshow\u001b[0m\u001b[0;34m(\u001b[0m\u001b[0mKPPviscA\u001b[0m\u001b[0;34m[\u001b[0m\u001b[0;36m66\u001b[0m\u001b[0;34m,\u001b[0m\u001b[0;36m0\u001b[0m\u001b[0;34m:\u001b[0m\u001b[0;36m300\u001b[0m\u001b[0;34m,\u001b[0m\u001b[0;36m0\u001b[0m\u001b[0;34m:\u001b[0m\u001b[0;36m300\u001b[0m\u001b[0;34m]\u001b[0m\u001b[0;34m.\u001b[0m\u001b[0mT\u001b[0m\u001b[0;34m)\u001b[0m\u001b[0;34m\u001b[0m\u001b[0;34m\u001b[0m\u001b[0m\n\u001b[0m\u001b[1;32m      3\u001b[0m \u001b[0mplt\u001b[0m\u001b[0;34m.\u001b[0m\u001b[0mcolorbar\u001b[0m\u001b[0;34m(\u001b[0m\u001b[0;34m)\u001b[0m\u001b[0;34m\u001b[0m\u001b[0;34m\u001b[0m\u001b[0m\n",
      "\u001b[0;32m~/.conda/envs/xmitgcm3/lib/python3.8/site-packages/matplotlib/pyplot.py\u001b[0m in \u001b[0;36mimshow\u001b[0;34m(X, cmap, norm, aspect, interpolation, alpha, vmin, vmax, origin, extent, filternorm, filterrad, resample, url, data, **kwargs)\u001b[0m\n\u001b[1;32m   2722\u001b[0m         \u001b[0mfilternorm\u001b[0m\u001b[0;34m=\u001b[0m\u001b[0;32mTrue\u001b[0m\u001b[0;34m,\u001b[0m \u001b[0mfilterrad\u001b[0m\u001b[0;34m=\u001b[0m\u001b[0;36m4.0\u001b[0m\u001b[0;34m,\u001b[0m \u001b[0mresample\u001b[0m\u001b[0;34m=\u001b[0m\u001b[0;32mNone\u001b[0m\u001b[0;34m,\u001b[0m \u001b[0murl\u001b[0m\u001b[0;34m=\u001b[0m\u001b[0;32mNone\u001b[0m\u001b[0;34m,\u001b[0m\u001b[0;34m\u001b[0m\u001b[0;34m\u001b[0m\u001b[0m\n\u001b[1;32m   2723\u001b[0m         data=None, **kwargs):\n\u001b[0;32m-> 2724\u001b[0;31m     __ret = gca().imshow(\n\u001b[0m\u001b[1;32m   2725\u001b[0m         \u001b[0mX\u001b[0m\u001b[0;34m,\u001b[0m \u001b[0mcmap\u001b[0m\u001b[0;34m=\u001b[0m\u001b[0mcmap\u001b[0m\u001b[0;34m,\u001b[0m \u001b[0mnorm\u001b[0m\u001b[0;34m=\u001b[0m\u001b[0mnorm\u001b[0m\u001b[0;34m,\u001b[0m \u001b[0maspect\u001b[0m\u001b[0;34m=\u001b[0m\u001b[0maspect\u001b[0m\u001b[0;34m,\u001b[0m\u001b[0;34m\u001b[0m\u001b[0;34m\u001b[0m\u001b[0m\n\u001b[1;32m   2726\u001b[0m         \u001b[0minterpolation\u001b[0m\u001b[0;34m=\u001b[0m\u001b[0minterpolation\u001b[0m\u001b[0;34m,\u001b[0m \u001b[0malpha\u001b[0m\u001b[0;34m=\u001b[0m\u001b[0malpha\u001b[0m\u001b[0;34m,\u001b[0m \u001b[0mvmin\u001b[0m\u001b[0;34m=\u001b[0m\u001b[0mvmin\u001b[0m\u001b[0;34m,\u001b[0m\u001b[0;34m\u001b[0m\u001b[0;34m\u001b[0m\u001b[0m\n",
      "\u001b[0;32m~/.conda/envs/xmitgcm3/lib/python3.8/site-packages/matplotlib/__init__.py\u001b[0m in \u001b[0;36minner\u001b[0;34m(ax, data, *args, **kwargs)\u001b[0m\n\u001b[1;32m   1445\u001b[0m     \u001b[0;32mdef\u001b[0m \u001b[0minner\u001b[0m\u001b[0;34m(\u001b[0m\u001b[0max\u001b[0m\u001b[0;34m,\u001b[0m \u001b[0;34m*\u001b[0m\u001b[0margs\u001b[0m\u001b[0;34m,\u001b[0m \u001b[0mdata\u001b[0m\u001b[0;34m=\u001b[0m\u001b[0;32mNone\u001b[0m\u001b[0;34m,\u001b[0m \u001b[0;34m**\u001b[0m\u001b[0mkwargs\u001b[0m\u001b[0;34m)\u001b[0m\u001b[0;34m:\u001b[0m\u001b[0;34m\u001b[0m\u001b[0;34m\u001b[0m\u001b[0m\n\u001b[1;32m   1446\u001b[0m         \u001b[0;32mif\u001b[0m \u001b[0mdata\u001b[0m \u001b[0;32mis\u001b[0m \u001b[0;32mNone\u001b[0m\u001b[0;34m:\u001b[0m\u001b[0;34m\u001b[0m\u001b[0;34m\u001b[0m\u001b[0m\n\u001b[0;32m-> 1447\u001b[0;31m             \u001b[0;32mreturn\u001b[0m \u001b[0mfunc\u001b[0m\u001b[0;34m(\u001b[0m\u001b[0max\u001b[0m\u001b[0;34m,\u001b[0m \u001b[0;34m*\u001b[0m\u001b[0mmap\u001b[0m\u001b[0;34m(\u001b[0m\u001b[0msanitize_sequence\u001b[0m\u001b[0;34m,\u001b[0m \u001b[0margs\u001b[0m\u001b[0;34m)\u001b[0m\u001b[0;34m,\u001b[0m \u001b[0;34m**\u001b[0m\u001b[0mkwargs\u001b[0m\u001b[0;34m)\u001b[0m\u001b[0;34m\u001b[0m\u001b[0;34m\u001b[0m\u001b[0m\n\u001b[0m\u001b[1;32m   1448\u001b[0m \u001b[0;34m\u001b[0m\u001b[0m\n\u001b[1;32m   1449\u001b[0m         \u001b[0mbound\u001b[0m \u001b[0;34m=\u001b[0m \u001b[0mnew_sig\u001b[0m\u001b[0;34m.\u001b[0m\u001b[0mbind\u001b[0m\u001b[0;34m(\u001b[0m\u001b[0max\u001b[0m\u001b[0;34m,\u001b[0m \u001b[0;34m*\u001b[0m\u001b[0margs\u001b[0m\u001b[0;34m,\u001b[0m \u001b[0;34m**\u001b[0m\u001b[0mkwargs\u001b[0m\u001b[0;34m)\u001b[0m\u001b[0;34m\u001b[0m\u001b[0;34m\u001b[0m\u001b[0m\n",
      "\u001b[0;32m~/.conda/envs/xmitgcm3/lib/python3.8/site-packages/matplotlib/axes/_axes.py\u001b[0m in \u001b[0;36mimshow\u001b[0;34m(self, X, cmap, norm, aspect, interpolation, alpha, vmin, vmax, origin, extent, filternorm, filterrad, resample, url, **kwargs)\u001b[0m\n\u001b[1;32m   5521\u001b[0m                               resample=resample, **kwargs)\n\u001b[1;32m   5522\u001b[0m \u001b[0;34m\u001b[0m\u001b[0m\n\u001b[0;32m-> 5523\u001b[0;31m         \u001b[0mim\u001b[0m\u001b[0;34m.\u001b[0m\u001b[0mset_data\u001b[0m\u001b[0;34m(\u001b[0m\u001b[0mX\u001b[0m\u001b[0;34m)\u001b[0m\u001b[0;34m\u001b[0m\u001b[0;34m\u001b[0m\u001b[0m\n\u001b[0m\u001b[1;32m   5524\u001b[0m         \u001b[0mim\u001b[0m\u001b[0;34m.\u001b[0m\u001b[0mset_alpha\u001b[0m\u001b[0;34m(\u001b[0m\u001b[0malpha\u001b[0m\u001b[0;34m)\u001b[0m\u001b[0;34m\u001b[0m\u001b[0;34m\u001b[0m\u001b[0m\n\u001b[1;32m   5525\u001b[0m         \u001b[0;32mif\u001b[0m \u001b[0mim\u001b[0m\u001b[0;34m.\u001b[0m\u001b[0mget_clip_path\u001b[0m\u001b[0;34m(\u001b[0m\u001b[0;34m)\u001b[0m \u001b[0;32mis\u001b[0m \u001b[0;32mNone\u001b[0m\u001b[0;34m:\u001b[0m\u001b[0;34m\u001b[0m\u001b[0;34m\u001b[0m\u001b[0m\n",
      "\u001b[0;32m~/.conda/envs/xmitgcm3/lib/python3.8/site-packages/matplotlib/image.py\u001b[0m in \u001b[0;36mset_data\u001b[0;34m(self, A)\u001b[0m\n\u001b[1;32m    709\u001b[0m         if not (self._A.ndim == 2\n\u001b[1;32m    710\u001b[0m                 or self._A.ndim == 3 and self._A.shape[-1] in [3, 4]):\n\u001b[0;32m--> 711\u001b[0;31m             raise TypeError(\"Invalid shape {} for image data\"\n\u001b[0m\u001b[1;32m    712\u001b[0m                             .format(self._A.shape))\n\u001b[1;32m    713\u001b[0m \u001b[0;34m\u001b[0m\u001b[0m\n",
      "\u001b[0;31mTypeError\u001b[0m: Invalid shape (1, 87, 300) for image data"
     ]
    },
    {
     "data": {
      "image/png": "[encoded data removed]",
      "text/plain": [
       "<Figure size 432x288 with 1 Axes>"
      ]
     },
     "metadata": {
      "needs_background": "light"
     },
     "output_type": "display_data"
    }
   ],
   "source": [
    "%matplotlib inline\n",
    "plt.imshow(KPPviscA[66,0:300,0:300].T)\n",
    "plt.colorbar()"
   ]
  },
  {
   "cell_type": "code",
   "execution_count": 23,
   "id": "5af4da70-9747-41c4-b0e4-668f4cea067d",
   "metadata": {},
   "outputs": [
    {
     "data": {
      "text/plain": [
       "-0.00026221464866965204"
      ]
     },
     "execution_count": 23,
     "metadata": {},
     "output_type": "execute_result"
    }
   ],
   "source": [
    "top = 23\n",
    "np.nansum((KPPviscA[0:299, 50, top:, 0] - viscAz[:,50,top:,0])/KPPviscA[0:299, 50, top:, 0])"
   ]
  },
  {
   "cell_type": "code",
   "execution_count": 24,
   "id": "bbae3db2-de18-44d0-8fe1-8224544e4f4d",
   "metadata": {},
   "outputs": [
    {
     "data": {
      "text/plain": [
       "(300, 300, 1)"
      ]
     },
     "execution_count": 24,
     "metadata": {},
     "output_type": "execute_result"
    }
   ],
   "source": [
    "KPPhbl.shape"
   ]
  },
  {
   "cell_type": "code",
   "execution_count": 2,
   "id": "493414c9-9cf5-4302-a570-2148fa479dcf",
   "metadata": {
    "tags": []
   },
   "outputs": [],
   "source": [
    "import sys, os\n",
    "import numpy as np\n",
    "#import pylab as plt \n",
    "#sys.path.append('/nobackup/htorresg/DopplerScat/modelling/GS/programs/tools/')\n",
    "#sys.path.append('/u/htorresg/Experiment_CCS/programas/tools')\n",
    "#import handle_mitgcm as model\n",
    "#import tools as io\n",
    "#import IO as io\n",
    "#import Fronto_analysis_v2 as fronto\n",
    "#import grid_to_fronto\n",
    "from matplotlib.colors import LogNorm\n",
    "sys.path.append('/nobackup/amondal/Python/CCS_Analysis')\n",
    "import params_500mSNAPS_joecode as p\n",
    "import handle_mitgcm as model\n",
    "\n",
    "maxlevel=87\n",
    "\n",
    "    ## subregion\n",
    "iln = [-127.6,-122.5]\n",
    "ilt = [36,39]\n",
    "\n",
    "\n",
    "    ### handler\n",
    "    ## model config\n",
    "c = model.LLChires(p.dirc,p.dirc,\n",
    "                      p.nx,p.ny,p.nz,p.tini,p.tref,p.tend,\n",
    "                      p.steps,p.rate,p.timedelta)\n",
    "#grid = grid_to_fronto.prepare(c, maxlevel, iln, ilt)"
   ]
  },
  {
   "cell_type": "code",
   "execution_count": 26,
   "id": "2f0fd43a-9a46-469d-b858-ad2ed7af96af",
   "metadata": {},
   "outputs": [
    {
     "data": {
      "text/plain": [
       "'/nobackup/amondal/Python/Joes_kpp_code/Hector_Sub_Data/'"
      ]
     },
     "execution_count": 26,
     "metadata": {},
     "output_type": "execute_result"
    }
   ],
   "source": [
    "p.dirc"
   ]
  },
  {
   "cell_type": "code",
   "execution_count": 27,
   "id": "af4a6dc5-a27f-48ea-8365-cbcb38f429cf",
   "metadata": {},
   "outputs": [],
   "source": [
    "\n",
    "\n",
    "#i=c.timesteps[0]\n",
    "timestamps = np.arange(798408, 798408+24*1, 1)\n",
    "i=timestamps[0]"
   ]
  },
  {
   "cell_type": "code",
   "execution_count": 28,
   "id": "72343539-5cea-498e-8220-72252c5a6e1f",
   "metadata": {},
   "outputs": [],
   "source": [
    "KPPviscA = c.loadding_3D_data(p.dirc+'KPPviscA.%010i.data'%i,maxlevel,'tracer')\n",
    "KPPdiffT = c.loadding_3D_data(p.dirc+'KPPdiffT.%010i.data'%i,maxlevel,'tracer')\n",
    "#KPPviscA = KPPviscA[:,grid['ilnc'][0]:grid['ilnc'][1],grid['iltc'][0]:grid['iltc'][1]]\n",
    "#KPPviscA= np.expand_dims(KPPviscA, 0)\n",
    "\n",
    "#KPPviscAa = c.loadding_3D_data(p.dirc+'KPPviscA.%010i.data'%i,maxlevel,'tracer')\n",
    "#KPPviscAa = KPPviscAa[:,grid['ilnc'][0]:grid['ilnc'][1],grid['iltc'][0]:grid['iltc'][1]]\n",
    "#KPPviscAa = np.expand_dims(KPPviscAa, 0)\n",
    "#KPPviscAa = np.concatenate((KPPviscA, KPPviscAa))"
   ]
  },
  {
   "cell_type": "code",
   "execution_count": 29,
   "id": "2acea028-1a22-41f3-95aa-4963e19d0431",
   "metadata": {},
   "outputs": [],
   "source": [
    "KPPviscA_Hector = KPPviscA[:,0:300, 0:300]\n",
    "KPPviscA_Hector = np.swapaxes(KPPviscA_Hector, 0, 2)\n",
    "KPPdiffT_Hector = KPPdiffT[:, 0:300, 0:300]\n",
    "KPPdiffT_Hector = np.swapaxes(KPPdiffT_Hector, 0, 2)"
   ]
  },
  {
   "cell_type": "code",
   "execution_count": 30,
   "id": "f7002f5e-5018-4c8c-a039-fade9dc3d345",
   "metadata": {},
   "outputs": [
    {
     "data": {
      "text/plain": [
       "(300, 300, 87)"
      ]
     },
     "execution_count": 30,
     "metadata": {},
     "output_type": "execute_result"
    }
   ],
   "source": [
    "KPPviscA_Hector.shape"
   ]
  },
  {
   "cell_type": "code",
   "execution_count": 31,
   "id": "93c9e68b-40fb-46d2-bcca-8e518da6d413",
   "metadata": {},
   "outputs": [],
   "source": [
    "import matplotlib.pyplot as plt"
   ]
  },
  {
   "cell_type": "code",
   "execution_count": 32,
   "id": "f229e52b-2429-4b9e-92af-3151d412f92c",
   "metadata": {},
   "outputs": [
    {
     "data": {
      "text/plain": [
       "<matplotlib.colorbar.Colorbar at 0x2aaae3ec43d0>"
      ]
     },
     "execution_count": 32,
     "metadata": {},
     "output_type": "execute_result"
    },
    {
     "data": {
      "image/png": "[encoded data removed]",
      "text/plain": [
       "<Figure size 432x288 with 2 Axes>"
      ]
     },
     "metadata": {
      "needs_background": "light"
     },
     "output_type": "display_data"
    }
   ],
   "source": [
    "%matplotlib inline\n",
    "plt.imshow(KPPviscA_Hector[:,20, :].T)\n",
    "plt.colorbar()"
   ]
  },
  {
   "cell_type": "code",
   "execution_count": 33,
   "id": "8203421b-e6f9-4e3a-8d9a-598e99e1ebdc",
   "metadata": {},
   "outputs": [
    {
     "data": {
      "text/plain": [
       "<matplotlib.colorbar.Colorbar at 0x2aaae3f57d60>"
      ]
     },
     "execution_count": 33,
     "metadata": {},
     "output_type": "execute_result"
    },
    {
     "data": {
      "image/png": "[encoded data removed]",
      "text/plain": [
       "<Figure size 432x288 with 2 Axes>"
      ]
     },
     "metadata": {
      "needs_background": "light"
     },
     "output_type": "display_data"
    }
   ],
   "source": [
    "%matplotlib inline\n",
    "plt.imshow(KPPdiffT_Hector[:,20, :].T)\n",
    "plt.colorbar()"
   ]
  },
  {
   "cell_type": "code",
   "execution_count": 34,
   "id": "16f4c0fe-d96e-48b3-99c0-f860fe982099",
   "metadata": {},
   "outputs": [
    {
     "data": {
      "text/plain": [
       "<matplotlib.colorbar.Colorbar at 0x2aaae3ffa580>"
      ]
     },
     "execution_count": 34,
     "metadata": {},
     "output_type": "execute_result"
    },
    {
     "data": {
      "image/png": "[encoded data removed]",
      "text/plain": [
       "<Figure size 432x288 with 2 Axes>"
      ]
     },
     "metadata": {
      "needs_background": "light"
     },
     "output_type": "display_data"
    }
   ],
   "source": [
    "%matplotlib inline\n",
    "viscArNr = 5.6614e-4\n",
    "diffusKzT = 5.43999988e-7\n",
    "diffT = viscAz- viscArNr + diffusKzT\n",
    "plt.imshow(diffT[:,20, 20:63, 0].T)\n",
    "plt.colorbar()"
   ]
  },
  {
   "cell_type": "code",
   "execution_count": 35,
   "id": "33168795-58a1-495a-af8e-db7908c1473b",
   "metadata": {},
   "outputs": [
    {
     "data": {
      "text/plain": [
       "<matplotlib.colorbar.Colorbar at 0x2aaae408b970>"
      ]
     },
     "execution_count": 35,
     "metadata": {},
     "output_type": "execute_result"
    },
    {
     "data": {
      "image/png": "[encoded data removed]",
      "text/plain": [
       "<Figure size 432x288 with 2 Axes>"
      ]
     },
     "metadata": {
      "needs_background": "light"
     },
     "output_type": "display_data"
    }
   ],
   "source": [
    "%matplotlib inline\n",
    "diff_error = (diffT[:,:,0]) / (KPPdiffT_Hector[0:299, 0:299, :,])\n",
    "plt.imshow(diff_error[:,250, 20:].T)\n",
    "plt.colorbar()\n"
   ]
  },
  {
   "cell_type": "code",
   "execution_count": 36,
   "id": "b747f8f8-33c4-4fe4-90b9-8365d665a309",
   "metadata": {},
   "outputs": [
    {
     "data": {
      "text/plain": [
       "array([[[-5.65596000e-04,  4.96381374e-03,  4.54927904e-03, ...,\n",
       "         -5.65596000e-04, -5.65596000e-04, -5.65596000e-04],\n",
       "        [-5.65596000e-04,  4.96244941e-03,  4.52041790e-03, ...,\n",
       "         -5.65596000e-04, -5.65596000e-04, -5.65596000e-04],\n",
       "        [-5.65596000e-04,  4.95919984e-03,  4.48128757e-03, ...,\n",
       "         -5.65596000e-04, -5.65596000e-04, -5.65596000e-04],\n",
       "        ...,\n",
       "        [-5.65596000e-04,  4.94746380e-03,  4.29074046e-03, ...,\n",
       "          5.43999988e-07,  5.43999988e-07, -5.65596000e-04],\n",
       "        [-5.65596000e-04,  4.95237140e-03,  4.38799526e-03, ...,\n",
       "          5.43999988e-07,  5.43999988e-07, -5.65596000e-04],\n",
       "        [-5.65596000e-04,  4.95937794e-03,  4.50182281e-03, ...,\n",
       "          5.43999988e-07,  5.43999988e-07, -5.65596000e-04]],\n",
       "\n",
       "       [[-5.65596000e-04,  4.96746745e-03,  4.61552026e-03, ...,\n",
       "         -5.65596000e-04, -5.65596000e-04, -5.65596000e-04],\n",
       "        [-5.65596000e-04,  4.95901107e-03,  4.48834664e-03, ...,\n",
       "         -5.65596000e-04, -5.65596000e-04, -5.65596000e-04],\n",
       "        [-5.65596000e-04,  4.94687218e-03,  4.31441231e-03, ...,\n",
       "         -5.65596000e-04, -5.65596000e-04, -5.65596000e-04],\n",
       "        ...,\n",
       "        [-5.65596000e-04,  4.95417828e-03,  4.40446297e-03, ...,\n",
       "          5.43999988e-07,  5.43999988e-07, -5.65596000e-04],\n",
       "        [-5.65596000e-04,  4.95772275e-03,  4.49062398e-03, ...,\n",
       "          5.43999988e-07,  5.43999988e-07, -5.65596000e-04],\n",
       "        [-5.65596000e-04,  4.96415542e-03,  4.58837396e-03, ...,\n",
       "          5.43999988e-07,  5.43999988e-07, -5.65596000e-04]],\n",
       "\n",
       "       [[-5.65596000e-04,  4.96624896e-03,  4.60134874e-03, ...,\n",
       "         -5.65596000e-04, -5.65596000e-04, -5.65596000e-04],\n",
       "        [-5.65596000e-04,  4.95787282e-03,  4.47023273e-03, ...,\n",
       "         -5.65596000e-04, -5.65596000e-04, -5.65596000e-04],\n",
       "        [-5.65596000e-04,  4.94902561e-03,  4.33706787e-03, ...,\n",
       "         -5.65596000e-04, -5.65596000e-04, -5.65596000e-04],\n",
       "        ...,\n",
       "        [-5.65596000e-04,  4.95636807e-03,  4.51479681e-03, ...,\n",
       "          5.43999988e-07,  5.43999988e-07, -5.65596000e-04],\n",
       "        [-5.65596000e-04,  4.95930189e-03,  4.55845035e-03, ...,\n",
       "          5.43999988e-07,  5.43999988e-07, -5.65596000e-04],\n",
       "        [-5.65596000e-04,  4.96413589e-03,  4.60671341e-03, ...,\n",
       "          5.43999988e-07,  5.43999988e-07, -5.65596000e-04]],\n",
       "\n",
       "       ...,\n",
       "\n",
       "       [[-5.65596000e-04,  4.92604054e-03,  4.04605358e-03, ...,\n",
       "         -5.65596000e-04, -5.65596000e-04, -5.65596000e-04],\n",
       "        [-5.65596000e-04,  4.93776808e-03,  4.11495150e-03, ...,\n",
       "         -5.65596000e-04, -5.65596000e-04, -5.65596000e-04],\n",
       "        [-5.65596000e-04,  4.94726066e-03,  4.30628727e-03, ...,\n",
       "         -5.65596000e-04, -5.65596000e-04, -5.65596000e-04],\n",
       "        ...,\n",
       "        [-5.65596000e-04,  4.91428953e-03,  3.98363705e-03, ...,\n",
       "         -5.65596000e-04, -5.65596000e-04, -5.65596000e-04],\n",
       "        [-5.65596000e-04,  4.91534465e-03,  3.98611586e-03, ...,\n",
       "         -5.65596000e-04, -5.65596000e-04, -5.65596000e-04],\n",
       "        [-5.65596000e-04,  4.91759087e-03,  4.02396138e-03, ...,\n",
       "         -5.65596000e-04, -5.65596000e-04, -5.65596000e-04]],\n",
       "\n",
       "       [[-5.65596000e-04,  4.92666038e-03,  4.04927339e-03, ...,\n",
       "         -5.65596000e-04, -5.65596000e-04, -5.65596000e-04],\n",
       "        [-5.65596000e-04,  4.93820174e-03,  4.11766814e-03, ...,\n",
       "         -5.65596000e-04, -5.65596000e-04, -5.65596000e-04],\n",
       "        [-5.65596000e-04,  4.94828871e-03,  4.32175137e-03, ...,\n",
       "         -5.65596000e-04, -5.65596000e-04, -5.65596000e-04],\n",
       "        ...,\n",
       "        [-5.65596000e-04,  4.90522181e-03,  3.91208795e-03, ...,\n",
       "         -5.65596000e-04, -5.65596000e-04, -5.65596000e-04],\n",
       "        [-5.65596000e-04,  4.91321113e-03,  3.98847062e-03, ...,\n",
       "         -5.65596000e-04, -5.65596000e-04, -5.65596000e-04],\n",
       "        [-5.65596000e-04,  4.91867277e-03,  4.04752106e-03, ...,\n",
       "         -5.65596000e-04, -5.65596000e-04, -5.65596000e-04]],\n",
       "\n",
       "       [[-5.65596000e-04,  4.94439144e-03,  4.26993707e-03, ...,\n",
       "         -5.65596000e-04, -5.65596000e-04, -5.65596000e-04],\n",
       "        [-5.65596000e-04,  4.95181494e-03,  4.33058610e-03, ...,\n",
       "         -5.65596000e-04, -5.65596000e-04, -5.65596000e-04],\n",
       "        [-5.65596000e-04,  4.95831250e-03,  4.45054065e-03, ...,\n",
       "         -5.65596000e-04, -5.65596000e-04, -5.65596000e-04],\n",
       "        ...,\n",
       "        [-5.65596000e-04,  4.92424394e-03,  4.09689069e-03, ...,\n",
       "         -5.65596000e-04, -5.65596000e-04, -5.65596000e-04],\n",
       "        [-5.65596000e-04,  4.93233814e-03,  4.18597307e-03, ...,\n",
       "         -5.65596000e-04, -5.65596000e-04, -5.65596000e-04],\n",
       "        [-5.65596000e-04,  4.93872806e-03,  4.25529205e-03, ...,\n",
       "         -5.65596000e-04, -5.65596000e-04, -5.65596000e-04]]])"
      ]
     },
     "execution_count": 36,
     "metadata": {},
     "output_type": "execute_result"
    }
   ],
   "source": [
    "diffT[:,:,:, 0]"
   ]
  },
  {
   "cell_type": "code",
   "execution_count": 37,
   "id": "c972640a-a2ee-4d2a-af13-2a57c6d8c63d",
   "metadata": {},
   "outputs": [
    {
     "data": {
      "text/plain": [
       "array([[[0.        , 0.00365969, 0.00476686, ...,        nan,\n",
       "                nan,        nan],\n",
       "        [0.        , 0.00141215, 0.00195849, ...,        nan,\n",
       "                nan,        nan],\n",
       "        [0.        , 0.00142947, 0.00201091, ...,        nan,\n",
       "                nan,        nan],\n",
       "        ...,\n",
       "        [0.        , 0.00162618, 0.00258005, ...,        nan,\n",
       "                nan,        nan],\n",
       "        [0.        , 0.00164493, 0.00263249, ...,        nan,\n",
       "                nan,        nan],\n",
       "        [0.        , 0.00165931, 0.00267267, ...,        nan,\n",
       "                nan,        nan]],\n",
       "\n",
       "       [[0.        , 0.00184969, 0.00321681, ...,        nan,\n",
       "                nan,        nan],\n",
       "        [0.        , 0.00142933, 0.00173925, ...,        nan,\n",
       "                nan,        nan],\n",
       "        [0.        , 0.00142645, 0.00167924, ...,        nan,\n",
       "                nan,        nan],\n",
       "        ...,\n",
       "        [0.        , 0.00141238, 0.00163481, ...,        nan,\n",
       "                nan,        nan],\n",
       "        [0.        , 0.00141965, 0.00164958, ...,        nan,\n",
       "                nan,        nan],\n",
       "        [0.        , 0.00143416, 0.0016892 , ...,        nan,\n",
       "                nan,        nan]],\n",
       "\n",
       "       [[0.        , 0.00181941, 0.00313793, ...,        nan,\n",
       "                nan,        nan],\n",
       "        [0.        , 0.00142439, 0.00172832, ...,        nan,\n",
       "                nan,        nan],\n",
       "        [0.        , 0.0014263 , 0.001694  , ...,        nan,\n",
       "                nan,        nan],\n",
       "        ...,\n",
       "        [0.        , 0.0014267 , 0.00168836, ...,        nan,\n",
       "                nan,        nan],\n",
       "        [0.        , 0.00142334, 0.00167043, ...,        nan,\n",
       "                nan,        nan],\n",
       "        [0.        , 0.00144212, 0.00171882, ...,        nan,\n",
       "                nan,        nan]],\n",
       "\n",
       "       ...,\n",
       "\n",
       "       [[0.        , 0.00154235, 0.00253372, ...,        nan,\n",
       "                nan,        nan],\n",
       "        [0.        , 0.0013612 , 0.00165953, ...,        nan,\n",
       "                nan,        nan],\n",
       "        [0.        , 0.00136909, 0.0016813 , ...,        nan,\n",
       "                nan,        nan],\n",
       "        ...,\n",
       "        [0.        , 0.00141194, 0.00170343, ...,        nan,\n",
       "                nan,        nan],\n",
       "        [0.        , 0.00141738, 0.00171335, ...,        nan,\n",
       "                nan,        nan],\n",
       "        [0.        , 0.00146865, 0.00185837, ...,        nan,\n",
       "                nan,        nan]],\n",
       "\n",
       "       [[0.        , 0.00153336, 0.0025113 , ...,        nan,\n",
       "                nan,        nan],\n",
       "        [0.        , 0.00136505, 0.00166879, ...,        nan,\n",
       "                nan,        nan],\n",
       "        [0.        , 0.00137704, 0.00170179, ...,        nan,\n",
       "                nan,        nan],\n",
       "        ...,\n",
       "        [0.        , 0.00141307, 0.00170657, ...,        nan,\n",
       "                nan,        nan],\n",
       "        [0.        , 0.00142082, 0.00172199, ...,        nan,\n",
       "                nan,        nan],\n",
       "        [0.        , 0.00147089, 0.0018627 , ...,        nan,\n",
       "                nan,        nan]],\n",
       "\n",
       "       [[0.        , 0.00151955, 0.00247909, ...,        nan,\n",
       "                nan,        nan],\n",
       "        [0.        , 0.00136944, 0.00167907, ...,        nan,\n",
       "                nan,        nan],\n",
       "        [0.        , 0.00137641, 0.00169743, ...,        nan,\n",
       "                nan,        nan],\n",
       "        ...,\n",
       "        [0.        , 0.00142123, 0.00172776, ...,        nan,\n",
       "                nan,        nan],\n",
       "        [0.        , 0.00142381, 0.0017275 , ...,        nan,\n",
       "                nan,        nan],\n",
       "        [0.        , 0.00144797, 0.00179294, ...,        nan,\n",
       "                nan,        nan]]])"
      ]
     },
     "execution_count": 37,
     "metadata": {},
     "output_type": "execute_result"
    }
   ],
   "source": [
    "KPPdiffT_Hector[0:99, 0:99,:]"
   ]
  },
  {
   "cell_type": "code",
   "execution_count": 45,
   "id": "b069c535-09c2-4cd4-ad46-8c78661523ac",
   "metadata": {},
   "outputs": [
    {
     "data": {
      "text/plain": [
       "(300, 300, 87)"
      ]
     },
     "execution_count": 45,
     "metadata": {},
     "output_type": "execute_result"
    }
   ],
   "source": [
    "KPPdiffT_Hector.shape"
   ]
  },
  {
   "cell_type": "code",
   "execution_count": 46,
   "id": "92ffe888-c304-4fcf-8d77-6fed2dd54a48",
   "metadata": {},
   "outputs": [
    {
     "data": {
      "text/plain": [
       "(299, 299, 87, 1)"
      ]
     },
     "execution_count": 46,
     "metadata": {},
     "output_type": "execute_result"
    }
   ],
   "source": [
    "diffT.shape"
   ]
  },
  {
   "cell_type": "code",
   "execution_count": 38,
   "id": "f3b91b88-5dab-47ba-a2c8-560a61a45def",
   "metadata": {},
   "outputs": [
    {
     "data": {
      "text/plain": [
       "0.000687529060392348"
      ]
     },
     "execution_count": 38,
     "metadata": {},
     "output_type": "execute_result"
    }
   ],
   "source": [
    "depth = 24\n",
    "bottom = 49\n",
    "diffT[diffT == 0] = np.nan\n",
    "np.nansum((KPPdiffT_Hector[0:-1, 0:-1, depth:bottom] - diffT[:,:,depth:bottom, 0])/ KPPdiffT_Hector[0:-1, 0:-1, depth:bottom]) "
   ]
  },
  {
   "cell_type": "code",
   "execution_count": 39,
   "id": "df5220f9-53e4-43b1-9bc1-8960e84462c2",
   "metadata": {},
   "outputs": [
    {
     "data": {
      "text/plain": [
       "array([5.43999988e-07, 5.43999988e-07, 5.43999988e-07, 5.43999988e-07,\n",
       "       5.43999988e-07, 5.43999988e-07, 5.43999988e-07, 5.43999988e-07,\n",
       "       5.43999988e-07, 5.43999988e-07, 5.43999988e-07, 5.43999988e-07,\n",
       "       5.43999988e-07, 5.43999988e-07, 5.43999988e-07, 5.43999988e-07,\n",
       "       5.43999988e-07, 5.43999988e-07, 5.43999988e-07, 5.43999988e-07,\n",
       "       5.43999988e-07, 5.43999988e-07, 5.43999988e-07, 5.43999988e-07,\n",
       "       5.43999988e-07, 5.43999988e-07, 5.43999988e-07])"
      ]
     },
     "execution_count": 39,
     "metadata": {},
     "output_type": "execute_result"
    }
   ],
   "source": [
    "KPPdiffT_Hector[10,10,23:50]"
   ]
  },
  {
   "cell_type": "code",
   "execution_count": 40,
   "id": "7d8d7508-84aa-446d-8326-bf5dffdc97f5",
   "metadata": {},
   "outputs": [
    {
     "data": {
      "text/plain": [
       "(299, 299, 87, 1)"
      ]
     },
     "execution_count": 40,
     "metadata": {},
     "output_type": "execute_result"
    }
   ],
   "source": [
    "diffT.shape"
   ]
  },
  {
   "cell_type": "code",
   "execution_count": 41,
   "id": "ac3e6efb-b808-4040-be72-b4bf06f2a0ac",
   "metadata": {},
   "outputs": [
    {
     "data": {
      "text/plain": [
       "4.518261146694018e-15"
      ]
     },
     "execution_count": 41,
     "metadata": {},
     "output_type": "execute_result"
    }
   ],
   "source": [
    "np.nansum(KPPdiffT_Hector[10,10,23:50] - diffT[10,10,23:50, 0])"
   ]
  },
  {
   "cell_type": "code",
   "execution_count": 42,
   "id": "6609d5e3-7485-4fb3-910b-26ec7c7ed256",
   "metadata": {},
   "outputs": [
    {
     "data": {
      "text/plain": [
       "<matplotlib.colorbar.Colorbar at 0x2aaae3f3b1c0>"
      ]
     },
     "execution_count": 42,
     "metadata": {},
     "output_type": "execute_result"
    },
    {
     "data": {
      "image/png": "[encoded data removed]",
      "text/plain": [
       "<Figure size 432x288 with 2 Axes>"
      ]
     },
     "metadata": {
      "needs_background": "light"
     },
     "output_type": "display_data"
    }
   ],
   "source": [
    "%matplotlib inline\n",
    "diff_error = (KPPdiffT_Hector[0:-1, 0:-1, 0:60] - diffT[0:,:,0:60, 0]) / KPPdiffT_Hector[0:-1, 0:-1, 0:60]\n",
    "plt.imshow(diff_error[:,:,58].T)\n",
    "plt.colorbar()"
   ]
  },
  {
   "cell_type": "code",
   "execution_count": 48,
   "id": "d2d25c21-a843-4d6f-9507-987208aff4c3",
   "metadata": {},
   "outputs": [
    {
     "name": "stdout",
     "output_type": "stream",
     "text": [
      "78.01066628605363\n",
      "437.1025569363617\n",
      "649.2707716596501\n",
      "20.18180853608633\n",
      "-5.85743043342608\n",
      "-5.85743043342608\n",
      "-5.85743043342608\n",
      "-5.85743043342608\n",
      "-5.85743043342608\n",
      "-5.85743043342608\n",
      "-5.85743043342608\n",
      "-5.85743043342608\n",
      "-5.85743043342608\n",
      "-5.85743043342608\n",
      "-5.85743043342608\n",
      "-5.85743043342608\n",
      "-5.85743043342608\n",
      "-5.85743043342608\n",
      "-5.85743043342608\n",
      "-5.85743043342608\n",
      "-5.85743043342608\n",
      "-5.85743043342608\n",
      "-5.85743043342608\n",
      "-5.85743043342608\n",
      "-5.85743043342608\n",
      "-5.85743043342608\n",
      "-5.85743043342608\n",
      "-5.85743043342608\n",
      "-5.85743043342608\n",
      "-5.65239033844132\n",
      "-5.243148053519178\n",
      "-5.635385282486124\n",
      "-5.214463896559149\n",
      "15.181901117102663\n",
      "9.397372602723237\n",
      "5.889972480297445\n",
      "8.066539554792419\n",
      "5.967972656229925\n",
      "0.14452909248429535\n"
     ]
    }
   ],
   "source": [
    "for a in range(20, 59):    \n",
    "    print(np.nansum(diff_error[:,:,59] - diff_error[:,:,a]))"
   ]
  },
  {
   "cell_type": "code",
   "execution_count": 49,
   "id": "8c4877d0-43c6-488b-ab5c-bdce9f3529db",
   "metadata": {},
   "outputs": [
    {
     "data": {
      "text/plain": [
       "(299, 299, 60)"
      ]
     },
     "execution_count": 49,
     "metadata": {},
     "output_type": "execute_result"
    }
   ],
   "source": [
    "diff_error.shape"
   ]
  },
  {
   "cell_type": "code",
   "execution_count": 50,
   "id": "5d9f026a-61d6-45a5-a0d9-ab330eace776",
   "metadata": {},
   "outputs": [
    {
     "data": {
      "text/plain": [
       "<matplotlib.colorbar.Colorbar at 0x2aaae41a6880>"
      ]
     },
     "execution_count": 50,
     "metadata": {},
     "output_type": "execute_result"
    },
    {
     "data": {
      "image/png": "[encoded data removed]",
      "text/plain": [
       "<Figure size 432x288 with 2 Axes>"
      ]
     },
     "metadata": {
      "needs_background": "light"
     },
     "output_type": "display_data"
    }
   ],
   "source": [
    "%matplotlib inline\n",
    "diff_error = (KPPdiffT_Hector[0:-1, 0:-1, 20:87] - diffT[:,:,20:87, 0]) / KPPdiffT_Hector[0:-1, 0:-1, 20:87]\n",
    "plt.imshow(diff_error[0:-1, 0:-1, 30].T)\n",
    "plt.colorbar()"
   ]
  },
  {
   "cell_type": "code",
   "execution_count": 51,
   "id": "56461363-4065-4308-bef9-5aaf5bf8f564",
   "metadata": {},
   "outputs": [
    {
     "data": {
      "text/plain": [
       "array([[5.43999988e-07, 5.43999988e-07, 5.43999988e-07, ...,\n",
       "        5.43999988e-07, 5.43999988e-07, 5.43999988e-07],\n",
       "       [5.43999988e-07, 5.43999988e-07, 5.43999988e-07, ...,\n",
       "        5.43999988e-07, 5.43999988e-07, 5.43999988e-07],\n",
       "       [5.43999988e-07, 5.43999988e-07, 5.43999988e-07, ...,\n",
       "        5.43999988e-07, 5.43999988e-07, 5.43999988e-07],\n",
       "       ...,\n",
       "       [5.43999988e-07, 5.43999988e-07, 5.43999988e-07, ...,\n",
       "        5.43999988e-07, 5.43999988e-07, 5.43999988e-07],\n",
       "       [5.43999988e-07, 5.43999988e-07, 5.43999988e-07, ...,\n",
       "        5.43999988e-07, 5.43999988e-07, 5.43999988e-07],\n",
       "       [5.43999988e-07, 5.43999988e-07, 5.43999988e-07, ...,\n",
       "        5.43999988e-07, 5.43999988e-07, 5.43999988e-07]])"
      ]
     },
     "execution_count": 51,
     "metadata": {},
     "output_type": "execute_result"
    }
   ],
   "source": [
    "KPPdiffT_Hector[0:-1, 0:-1, 81]"
   ]
  },
  {
   "cell_type": "code",
   "execution_count": 52,
   "id": "41f88176-ca15-467e-bb97-b35d545246e8",
   "metadata": {},
   "outputs": [
    {
     "data": {
      "text/plain": [
       "<matplotlib.colorbar.Colorbar at 0x2aaae423d040>"
      ]
     },
     "execution_count": 52,
     "metadata": {},
     "output_type": "execute_result"
    },
    {
     "data": {
      "image/png": "[encoded data removed]",
      "text/plain": [
       "<Figure size 432x288 with 2 Axes>"
      ]
     },
     "metadata": {
      "needs_background": "light"
     },
     "output_type": "display_data"
    }
   ],
   "source": [
    "%matplotlib inline\n",
    "diff_error = (KPPdiffT_Hector[0:-1, 0:-1, 20:87] - diffT[:,:,20:87, 0]) / KPPdiffT_Hector[0:-1, 0:-1, 20:87]\n",
    "plt.imshow(KPPdiffT_Hector[225, :, 20:87].T)\n",
    "plt.colorbar()"
   ]
  },
  {
   "cell_type": "code",
   "execution_count": 53,
   "id": "6685288a-e9a3-4197-a1f4-c2ac8594810a",
   "metadata": {},
   "outputs": [
    {
     "data": {
      "text/plain": [
       "<matplotlib.colorbar.Colorbar at 0x2aaae42d59d0>"
      ]
     },
     "execution_count": 53,
     "metadata": {},
     "output_type": "execute_result"
    },
    {
     "data": {
      "image/png": "[encoded data removed]",
      "text/plain": [
       "<Figure size 432x288 with 2 Axes>"
      ]
     },
     "metadata": {
      "needs_background": "light"
     },
     "output_type": "display_data"
    }
   ],
   "source": [
    "%matplotlib inline\n",
    "diff_error = (KPPdiffT_Hector[0:-1, 0:-1, 20:87] - diffT[:,:,20:87, 0]) / KPPdiffT_Hector[0:-1, 0:-1, 20:87]\n",
    "plt.imshow(diff_error[225, :, :].T)\n",
    "plt.colorbar()"
   ]
  },
  {
   "cell_type": "code",
   "execution_count": 54,
   "id": "8f163006-7d70-41b6-957f-17fdc4217e8e",
   "metadata": {},
   "outputs": [
    {
     "data": {
      "text/plain": [
       "<matplotlib.colorbar.Colorbar at 0x2aaae4372310>"
      ]
     },
     "execution_count": 54,
     "metadata": {},
     "output_type": "execute_result"
    },
    {
     "data": {
      "image/png": "[encoded data removed]",
      "text/plain": [
       "<Figure size 432x288 with 2 Axes>"
      ]
     },
     "metadata": {
      "needs_background": "light"
     },
     "output_type": "display_data"
    }
   ],
   "source": [
    "%matplotlib inline\n",
    "diff_error = (KPPdiffT_Hector[0:-1, 0:-1, 20:87] - diffT[:,:,20:87, 0])\n",
    "plt.imshow(diffT[225, :, 20:87, 0].T)\n",
    "plt.colorbar()"
   ]
  },
  {
   "cell_type": "code",
   "execution_count": 55,
   "id": "6cbee2ff-315a-40b0-b5bc-302e80aa16f5",
   "metadata": {},
   "outputs": [
    {
     "data": {
      "text/plain": [
       "array([[5.43999988e-07, 5.43999988e-07, 5.43999988e-07, ...,\n",
       "        5.43999988e-07, 5.43999988e-07, 5.43999988e-07],\n",
       "       [5.43999988e-07, 5.43999988e-07, 5.43999988e-07, ...,\n",
       "        5.43999988e-07, 5.43999988e-07, 5.43999988e-07],\n",
       "       [5.43999988e-07, 5.43999988e-07, 5.43999988e-07, ...,\n",
       "        5.43999988e-07, 5.43999988e-07, 5.43999988e-07],\n",
       "       ...,\n",
       "       [5.43999988e-07, 5.43999988e-07, 5.43999988e-07, ...,\n",
       "        5.43999988e-07, 5.43999988e-07, 5.43999988e-07],\n",
       "       [5.43999988e-07, 5.43999988e-07, 5.43999988e-07, ...,\n",
       "        5.43999988e-07, 5.43999988e-07, 5.43999988e-07],\n",
       "       [5.43999988e-07, 5.43999988e-07, 5.43999988e-07, ...,\n",
       "        5.43999988e-07, 5.43999988e-07, 5.43999988e-07]])"
      ]
     },
     "execution_count": 55,
     "metadata": {},
     "output_type": "execute_result"
    }
   ],
   "source": [
    "diffT[:,:,81, 0]"
   ]
  },
  {
   "cell_type": "code",
   "execution_count": 56,
   "id": "53ce5e48-234a-44a8-b79c-b1889f39f5cb",
   "metadata": {},
   "outputs": [
    {
     "data": {
      "text/plain": [
       "<matplotlib.colorbar.Colorbar at 0x2aaae44058e0>"
      ]
     },
     "execution_count": 56,
     "metadata": {},
     "output_type": "execute_result"
    },
    {
     "data": {
      "image/png": "[encoded data removed]",
      "text/plain": [
       "<Figure size 432x288 with 2 Axes>"
      ]
     },
     "metadata": {
      "needs_background": "light"
     },
     "output_type": "display_data"
    }
   ],
   "source": [
    "%matplotlib inline\n",
    "diff_error = (KPPdiffT_Hector[0:-1, 0:-1, 23:83] - diffT[:,:,23:83,0])\n",
    "plt.imshow(diff_error[:,33,:].T)\n",
    "plt.colorbar()"
   ]
  },
  {
   "cell_type": "code",
   "execution_count": 57,
   "id": "cf9b83c5-7715-41f7-b5ac-639ebdb0e696",
   "metadata": {},
   "outputs": [],
   "source": [
    "error = KPPdiffT_Hector[0:-1, 0:-1, 23:83] - diffT[:,:,23:83,0] / KPPdiffT_Hector[0:-1, 0:-1, 23:83]"
   ]
  },
  {
   "cell_type": "code",
   "execution_count": 58,
   "id": "83a0316f-2793-4ac2-a2ca-583798107937",
   "metadata": {},
   "outputs": [
    {
     "data": {
      "text/plain": [
       "(5329192, 3)"
      ]
     },
     "execution_count": 58,
     "metadata": {},
     "output_type": "execute_result"
    }
   ],
   "source": [
    "np.argwhere(np.abs(error)>0.999).shape"
   ]
  },
  {
   "cell_type": "code",
   "execution_count": 59,
   "id": "94033647-13fb-4057-b045-6eb66aadc2d0",
   "metadata": {},
   "outputs": [
    {
     "data": {
      "text/plain": [
       "0.006507943609877609"
      ]
     },
     "execution_count": 59,
     "metadata": {},
     "output_type": "execute_result"
    }
   ],
   "source": [
    "1 - np.argwhere(np.abs(error)>0.9999).shape[0] / np.prod(error.shape)"
   ]
  },
  {
   "cell_type": "code",
   "execution_count": 60,
   "id": "8e16678d-833f-42cc-84c7-576cfa6aa224",
   "metadata": {},
   "outputs": [
    {
     "ename": "IndexError",
     "evalue": "boolean index did not match indexed array along dimension 0; dimension is 300 but corresponding boolean dimension is 299",
     "output_type": "error",
     "traceback": [
      "\u001b[0;31m---------------------------------------------------------------------------\u001b[0m",
      "\u001b[0;31mIndexError\u001b[0m                                Traceback (most recent call last)",
      "\u001b[0;32m<ipython-input-60-73273df26157>\u001b[0m in \u001b[0;36m<module>\u001b[0;34m\u001b[0m\n\u001b[1;32m      1\u001b[0m \u001b[0mdiff_error\u001b[0m\u001b[0;34m[\u001b[0m\u001b[0mnp\u001b[0m\u001b[0;34m.\u001b[0m\u001b[0misnan\u001b[0m\u001b[0;34m(\u001b[0m\u001b[0mdiff_error\u001b[0m\u001b[0;34m)\u001b[0m\u001b[0;34m]\u001b[0m \u001b[0;34m=\u001b[0m \u001b[0;36m0\u001b[0m\u001b[0;34m\u001b[0m\u001b[0;34m\u001b[0m\u001b[0m\n\u001b[0;32m----> 2\u001b[0;31m \u001b[0mKPPdiffT_Hector\u001b[0m\u001b[0;34m[\u001b[0m\u001b[0mnp\u001b[0m\u001b[0;34m.\u001b[0m\u001b[0misnan\u001b[0m\u001b[0;34m(\u001b[0m\u001b[0mKPPdiffT_Hector\u001b[0m\u001b[0;34m[\u001b[0m\u001b[0;36m0\u001b[0m\u001b[0;34m:\u001b[0m\u001b[0;34m-\u001b[0m\u001b[0;36m1\u001b[0m\u001b[0;34m,\u001b[0m \u001b[0;36m0\u001b[0m\u001b[0;34m:\u001b[0m\u001b[0;34m-\u001b[0m\u001b[0;36m1\u001b[0m\u001b[0;34m,\u001b[0m \u001b[0;36m23\u001b[0m\u001b[0;34m:\u001b[0m\u001b[0;36m87\u001b[0m\u001b[0;34m]\u001b[0m\u001b[0;34m)\u001b[0m\u001b[0;34m]\u001b[0m \u001b[0;34m=\u001b[0m \u001b[0;36m0\u001b[0m\u001b[0;34m\u001b[0m\u001b[0;34m\u001b[0m\u001b[0m\n\u001b[0m",
      "\u001b[0;31mIndexError\u001b[0m: boolean index did not match indexed array along dimension 0; dimension is 300 but corresponding boolean dimension is 299"
     ]
    }
   ],
   "source": [
    "diff_error[np.isnan(diff_error)] = 0\n",
    "KPPdiffT_Hector[np.isnan(KPPdiffT_Hector[0:-1, 0:-1, 23:87])] = 0"
   ]
  },
  {
   "cell_type": "code",
   "execution_count": null,
   "id": "f0a11a5b-81b4-4344-9e22-67a527eccb00",
   "metadata": {},
   "outputs": [],
   "source": [
    "np.isnan(KPPdiffT_Hector[0:-1, 0:-1, 23:87]).shape"
   ]
  },
  {
   "cell_type": "code",
   "execution_count": null,
   "id": "76220d00-b2ce-41dc-9e99-229183edaa2b",
   "metadata": {},
   "outputs": [],
   "source": [
    "np.argwhere(diff_error > 1e-14).shape[0] / np.argwhere(diff_error < 1e-14).shape[0]"
   ]
  },
  {
   "cell_type": "code",
   "execution_count": null,
   "id": "75550454-34ce-47db-bc0e-0250bb57ffe2",
   "metadata": {},
   "outputs": [],
   "source": [
    "depth"
   ]
  },
  {
   "cell_type": "code",
   "execution_count": null,
   "id": "479014bb-f677-4c6a-a594-6bc0dcd90ade",
   "metadata": {},
   "outputs": [],
   "source": [
    "a = np.argwhere(diff_error[:,:,0:63] > 1e-15)"
   ]
  },
  {
   "cell_type": "code",
   "execution_count": null,
   "id": "40bf3754-1c7c-4444-9489-eb77b9e2aaaf",
   "metadata": {},
   "outputs": [],
   "source": [
    "big_error = diff_error[a]"
   ]
  },
  {
   "cell_type": "code",
   "execution_count": null,
   "id": "28fa2cfb-3688-47cd-8580-4d26fd72d342",
   "metadata": {},
   "outputs": [],
   "source": [
    "a.shape[0]"
   ]
  },
  {
   "cell_type": "code",
   "execution_count": null,
   "id": "efb88c13-519b-42ae-95b9-cc11ba7a2b44",
   "metadata": {},
   "outputs": [],
   "source": [
    " a.shape[0] / np.prod(diff_error[:,:,0:63].shape)"
   ]
  },
  {
   "cell_type": "code",
   "execution_count": null,
   "id": "0c8bf858-4060-46e2-8be9-d21a60680362",
   "metadata": {},
   "outputs": [],
   "source": [
    "%matplotlib inline\n",
    "diff_error = (KPPdiffT_Hector[0:-1, 0:-1, 20:87] - diffT[:,:,20:87, 0])\n",
    "plt.imshow(diff_error[:,:,3].T)\n",
    "plt.colorbar()"
   ]
  },
  {
   "cell_type": "markdown",
   "id": "17c57291-7cfb-41fb-b7a7-042788172777",
   "metadata": {},
   "source": [
    "It is seeming like we figured this out. At least in a very specific regime, Joe's code mostly predicts KPPviscA correctly. Which means all we have to change is a constant for KPPdiffT\n",
    "\n",
    "future plans can maybe include figuring out KPP near the sea floor"
   ]
  },
  {
   "cell_type": "code",
   "execution_count": 11,
   "id": "07321545-13f2-4e11-b644-dfaf2256076f",
   "metadata": {},
   "outputs": [],
   "source": [
    "#pad_field_3D\n",
    "from pad_field import pad_field_3D"
   ]
  },
  {
   "cell_type": "code",
   "execution_count": 9,
   "id": "52868914-6ba1-4835-8e8b-23a64f539f92",
   "metadata": {},
   "outputs": [],
   "source": [
    "def get_shsq(U,V):\n",
    "    (nx,ny,nz,nt) = U.shape; ng = 2;  prd = np.array([1,1,1]);\n",
    "    gx0 = ng; gxn = nx+ng;    gy0 = ng; gyn = ny+ng;    gz0 = ng; gzn = nz+ng; # interior cell limits\n",
    "\n",
    "    U = pad_field_3D(U,ng,prd); V = pad_field_3D(V,ng,prd);\n",
    "\n",
    "    shsq = 0.5*( \n",
    "        (U[gx0:gxn,gy0:gyn,gz0:gzn,:] - U[gx0:gxn,gy0:gyn,gz0+1:gzn+1,:]) * \n",
    "        (U[gx0:gxn,gy0:gyn,gz0:gzn,:] - U[gx0:gxn,gy0:gyn,gz0+1:gzn+1,:]) + \n",
    "        (U[gx0+1:gxn+1,gy0:gyn,gz0:gzn,:] - U[gx0+1:gxn+1,gy0:gyn,gz0+1:gzn+1,:])* \n",
    "        (U[gx0+1:gxn+1,gy0:gyn,gz0:gzn,:] - U[gx0+1:gxn+1,gy0:gyn,gz0+1:gzn+1,:]) + \n",
    "        (V[gx0:gxn,gy0:gyn,gz0:gzn,:] - V[gx0:gxn,gy0:gyn,gz0+1:gzn+1,:])* \n",
    "        (V[gx0:gxn,gy0:gyn,gz0:gzn,:] - V[gx0:gxn,gy0:gyn,gz0+1:gzn+1,:]) + \n",
    "        (V[gx0:gxn,gy0+1:gyn+1,gz0:gzn,:] - V[gx0:gxn,gy0+1:gyn+1,gz0+1:gzn+1,:])* \n",
    "        (V[gx0:gxn,gy0+1:gyn+1,gz0:gzn,:] - V[gx0:gxn,gy0+1:gyn+1,gz0+1:gzn+1,:]));\n",
    "    \n",
    "    shsq = 0.5*shsq + 0.125*( \n",
    "        (U[gx0:gxn,gy0-1:gyn-1,gz0:gzn,:]-U[gx0:gxn,gy0-1:gyn-1,gz0+1:gzn+1,:])* \n",
    "        (U[gx0:gxn,gy0-1:gyn-1,gz0:gzn,:]-U[gx0:gxn,gy0-1:gyn-1,gz0+1:gzn+1,:]) + \n",
    "        (U[gx0+1:gxn+1,gy0-1:gyn-1,gz0:gzn,:]-U[gx0+1:gxn+1,gy0-1:gyn-1,gz0+1:gzn+1,:])* \n",
    "        (U[gx0+1:gxn+1,gy0-1:gyn-1,gz0:gzn,:]-U[gx0+1:gxn+1,gy0-1:gyn-1,gz0+1:gzn+1,:]) + \n",
    "        (U[gx0:gxn,gy0+1:gyn+1,gz0:gzn,:]-U[gx0:gxn,gy0+1:gyn+1,gz0+1:gzn+1,:])* \n",
    "        (U[gx0:gxn,gy0+1:gyn+1,gz0:gzn,:]-U[gx0:gxn,gy0+1:gyn+1,gz0+1:gzn+1,:]) + \n",
    "        (U[gx0+1:gxn+1,gy0+1:gyn+1,gz0:gzn,:]-U[gx0+1:gxn+1,gy0+1:gyn+1,gz0+1:gzn+1,:])* \n",
    "        (U[gx0+1:gxn+1,gy0+1:gyn+1,gz0:gzn,:]-U[gx0+1:gxn+1,gy0+1:gyn+1,gz0+1:gzn+1,:]) + \n",
    "        (V[gx0-1:gxn-1,gy0:gyn,gz0:gzn,:]-V[gx0-1:gxn-1,gy0:gyn,gz0+1:gzn+1,:])* \n",
    "        (V[gx0-1:gxn-1,gy0:gyn,gz0:gzn,:]-V[gx0-1:gxn-1,gy0:gyn,gz0+1:gzn+1,:]) + \n",
    "        (V[gx0-1:gxn-1,gy0+1:gyn+1,gz0:gzn,:]-V[gx0-1:gxn-1,gy0+1:gyn+1,gz0+1:gzn+1,:])* \n",
    "        (V[gx0-1:gxn-1,gy0+1:gyn+1,gz0:gzn,:]-V[gx0-1:gxn-1,gy0+1:gyn+1,gz0+1:gzn+1,:]) + \n",
    "        (V[gx0+1:gxn+1,gy0:gyn,gz0:gzn,:]-V[gx0+1:gxn+1,gy0:gyn,gz0+1:gzn+1,:])* \n",
    "        (V[gx0+1:gxn+1,gy0:gyn,gz0:gzn,:]-V[gx0+1:gxn+1,gy0:gyn,gz0+1:gzn+1,:]) + \n",
    "        (V[gx0+1:gxn+1,gy0+1:gyn+1,gz0:gzn,:]-V[gx0+1:gxn+1,gy0+1:gyn+1,gz0+1:gzn+1,:])* \n",
    "        (V[gx0+1:gxn+1,gy0+1:gyn+1,gz0:gzn,:]-V[gx0+1:gxn+1,gy0+1:gyn+1,gz0+1:gzn+1,:]));\n",
    "        \n",
    "    return shsq;"
   ]
  },
  {
   "cell_type": "code",
   "execution_count": 21,
   "id": "54e8cd80-327a-452c-b2d4-cb7a0fe65c23",
   "metadata": {},
   "outputs": [
    {
     "data": {
      "text/plain": [
       "(300, 299, 87, 2)"
      ]
     },
     "execution_count": 21,
     "metadata": {},
     "output_type": "execute_result"
    }
   ],
   "source": [
    "Ujoe = f.U\n",
    "Vjoe = f.V\n",
    "Ujoe.shape"
   ]
  },
  {
   "cell_type": "code",
   "execution_count": 17,
   "id": "26f7f834-0b99-4256-b931-3523d5217b60",
   "metadata": {},
   "outputs": [],
   "source": [
    "import time"
   ]
  },
  {
   "cell_type": "code",
   "execution_count": 19,
   "id": "028bc242-26dd-484c-a756-c173b71e480e",
   "metadata": {},
   "outputs": [
    {
     "name": "stdout",
     "output_type": "stream",
     "text": [
      "3.788802146911621\n"
     ]
    }
   ],
   "source": [
    "start = time.time()\n",
    "joe_shsq = get_shsq(Ujoe, Vjoe)\n",
    "end = time.time()\n",
    "print(end-start)"
   ]
  },
  {
   "cell_type": "code",
   "execution_count": 20,
   "id": "a79a720a-bdcc-4bf1-b1b4-348ebfc6eeb0",
   "metadata": {
    "tags": []
   },
   "outputs": [
    {
     "data": {
      "text/plain": [
       "(300, 299, 87, 2)"
      ]
     },
     "execution_count": 20,
     "metadata": {},
     "output_type": "execute_result"
    }
   ],
   "source": [
    "joe_shsq.shape"
   ]
  },
  {
   "cell_type": "code",
   "execution_count": 23,
   "id": "6c5aaaee-8546-43d4-827b-ec969c049ec5",
   "metadata": {},
   "outputs": [],
   "source": [
    "import xarray\n",
    "# to use xarray ufunc, you'll have to have the coordiantes which I don't really need to deal with?"
   ]
  },
  {
   "cell_type": "code",
   "execution_count": null,
   "id": "18389479-c1af-4018-a72e-2cec0eaa560f",
   "metadata": {},
   "outputs": [],
   "source": [
    "def compute_rho_mitgcm(self):\n",
    "        # get dims\n",
    "        (nx,ny,nz,nt) = self.T.shape;\n",
    "                \n",
    "        rho0 = 1035; g = 9.81;\n",
    "        p = (np.cumsum(self.thknss,axis=2)-0.5*self.thknss)*g*rho0/10000 + 10;\n",
    "        SA = np.zeros([nx,ny,nz,nt]); CT = np.zeros([nx,ny,nz,nt]); self.rho = np.zeros([nx,ny,nz,nt]);\n",
    "        for k in range(0,nz):\n",
    "            for t in range(0,nt):\n",
    "                SA[:,:,k,t] = gsw.SA_from_SP(self.S[:,:,k,t],p[:,:,k,0],np.squeeze(self.pgrid[:,:,0]),np.squeeze(self.pgrid[:,:,1]));\n",
    "                CT[:,:,k,t] = gsw.CT_from_t(SA[:,:,k,t],self.T[:,:,k,t],p[:,:,k,0]);\n",
    "                self.rho[:,:,k,t] = gsw.rho(SA[:,:,k,t],CT[:,:,k,t],p[:,:,k,0]);\n",
    "\n",
    "def compute_pot_rho_down_mitgcm(self):\n",
    "        # get dims\n",
    "        (nx,ny,nz,nt) = self.T.shape;\n",
    "                \n",
    "        rho0 = 1035; g = 9.81;\n",
    "        p = (np.cumsum(self.thknss,axis=2)-0.5*self.thknss)*g*rho0/10000 + 10;\n",
    "        SA = np.zeros([nx,ny,nz,nt]); CT = np.zeros([nx,ny,nz,nt]); pot_rho = np.zeros([nx,ny,nz,nt]);\n",
    "        for k in range(0,nz-1):\n",
    "            for t in range(0,nt):\n",
    "                SA[:,:,k,t] = gsw.SA_from_SP(self.S[:,:,k,t],p[:,:,k+1,0],np.squeeze(self.pgrid[:,:,0]),np.squeeze(self.pgrid[:,:,1]));\n",
    "                CT[:,:,k,t] = gsw.CT_from_t(SA[:,:,k,t],self.T[:,:,k,t],p[:,:,k+1,0]);\n",
    "                pot_rho[:,:,k,t] = gsw.rho(SA[:,:,k,t],CT[:,:,k,t],p[:,:,k+1,0]);\n",
    "\n",
    "        return pot_rho;\n"
   ]
  },
  {
   "cell_type": "code",
   "execution_count": 44,
   "id": "3ab89c90-48fc-46d6-8cde-9787d0954477",
   "metadata": {},
   "outputs": [],
   "source": [
    "p = (np.cumsum(f.thknss,axis=2)-0.5*f.thknss)*9.81*1035/10000 + 10"
   ]
  },
  {
   "cell_type": "code",
   "execution_count": 43,
   "id": "9aeffb9c-bb89-4127-9acb-9b0dfc3a747b",
   "metadata": {},
   "outputs": [
    {
     "data": {
      "text/plain": [
       "array([5.00000000e-01, 1.57000005e+00, 2.78999996e+00, 4.18499994e+00,\n",
       "       5.77999973e+00, 7.59500027e+00, 9.65999985e+00, 1.20100002e+01,\n",
       "       1.46800003e+01, 1.77049999e+01, 2.11250000e+01, 2.49900017e+01,\n",
       "       2.93450012e+01, 3.42400017e+01, 3.97249985e+01, 4.58549995e+01,\n",
       "       5.26900024e+01, 6.02799988e+01, 6.86849976e+01, 7.79649963e+01,\n",
       "       8.81750031e+01, 9.93699951e+01, 1.11600006e+02, 1.24915009e+02,\n",
       "       1.39365005e+02, 1.54990005e+02, 1.71825012e+02, 1.89899994e+02,\n",
       "       2.09235001e+02, 2.29855011e+02, 2.51769989e+02, 2.74984985e+02,\n",
       "       2.99505005e+02, 3.25320007e+02, 3.52419983e+02, 3.80790009e+02,\n",
       "       4.10410004e+02, 4.41255005e+02, 4.73304993e+02, 5.06540009e+02,\n",
       "       5.40934998e+02, 5.76464966e+02, 6.13109985e+02, 6.50854980e+02,\n",
       "       6.89684998e+02, 7.29594971e+02, 7.70584961e+02, 8.12659973e+02,\n",
       "       8.55834961e+02, 9.00135010e+02, 9.45594971e+02, 9.92260010e+02,\n",
       "       1.04017993e+03, 1.08942505e+03, 1.14008008e+03, 1.19223499e+03,\n",
       "       1.24600500e+03, 1.30152002e+03, 1.35891992e+03, 1.41837500e+03,\n",
       "       1.48007495e+03, 1.54422498e+03, 1.61106006e+03, 1.68084497e+03,\n",
       "       1.75387500e+03, 1.83047498e+03, 1.91101489e+03, 1.99590503e+03,\n",
       "       2.08559497e+03, 2.18059497e+03, 2.28146997e+03, 2.38884497e+03,\n",
       "       2.50341504e+03, 2.62595508e+03, 2.75732520e+03, 2.89847998e+03,\n",
       "       3.05048486e+03, 3.21451514e+03, 3.39187500e+03, 3.58400488e+03,\n",
       "       3.79249512e+03, 4.01910498e+03, 4.26577490e+03, 4.49965039e+03,\n",
       "       4.60492090e+03, 4.60492090e+03, 4.60492090e+03], dtype=float32)"
      ]
     },
     "execution_count": 43,
     "metadata": {},
     "output_type": "execute_result"
    }
   ],
   "source": [
    "p[50,50,:,1]"
   ]
  },
  {
   "cell_type": "code",
   "execution_count": 39,
   "id": "d13ff064-10ec-442e-9982-bdd3e1986e78",
   "metadata": {},
   "outputs": [
    {
     "data": {
      "text/plain": [
       "array([  1.       ,   1.1400001,   1.3      ,   1.4899998,   1.7000003,\n",
       "         1.9300003,   2.1999998,   2.5      ,   2.8400002,   3.209999 ,\n",
       "         3.630001 ,   4.1000004,   4.6099987,   5.180002 ,   5.789997 ,\n",
       "         6.470001 ,   7.200001 ,   7.9799957,   8.830002 ,   9.730003 ,\n",
       "        10.689995 ,  11.700005 ,  12.760002 ,  13.870003 ,  15.029999 ,\n",
       "        16.220001 ,  17.449997 ,  18.699997 ,  19.970001 ,  21.270004 ,\n",
       "        22.559982 ,  23.870026 ,  25.169983 ,  26.459991 ,  27.74002  ,\n",
       "        29.       ,  30.23999  ,  31.450012 ,  32.649994 ,  33.820007 ,\n",
       "        34.96997  ,  36.090027 ,  37.200012 ,  38.289978 ,  39.369995 ,\n",
       "        40.450012 ,  41.52997  ,  42.619995 ,  43.73004  ,  44.869995 ,\n",
       "        46.049988 ,  47.28003  ,  48.559937 ,  49.930054 ,  51.380005 ,\n",
       "        52.92993  ,  54.610107 ,  56.41992  ,  58.380005 ,  60.53003  ,\n",
       "        62.869995 ,  65.42993  ,  68.24011  ,  71.329956 ,  74.72998  ,\n",
       "        78.46997  ,  82.609985 ,  87.170044 ,  92.20996  ,  97.79004  ,\n",
       "       103.95996  , 110.79004  , 118.3501   , 126.72998  , 136.01001  ,\n",
       "       146.2998   , 157.7102   , 170.34985  , 184.37012  , 199.8899   ,\n",
       "       217.09009  , 236.12988  , 257.20996  , 210.54102  ,   0.       ,\n",
       "         0.       ,   0.       ], dtype=float32)"
      ]
     },
     "execution_count": 39,
     "metadata": {},
     "output_type": "execute_result"
    }
   ],
   "source": [
    "thick = f.thknss[50,50,:,1]\n",
    "thick"
   ]
  },
  {
   "cell_type": "code",
   "execution_count": 45,
   "id": "583c5433-0eec-40b5-bc06-683b6aab05db",
   "metadata": {},
   "outputs": [],
   "source": [
    "import gsw_xarray as gswx"
   ]
  },
  {
   "cell_type": "code",
   "execution_count": 2,
   "id": "22150b6c-3bf6-4a24-a7cc-e5b9c77d577c",
   "metadata": {},
   "outputs": [
    {
     "ename": "TypeError",
     "evalue": "<class 'numpy.typing._dtype_like._SupportsDType'> is not a generic class",
     "output_type": "error",
     "traceback": [
      "\u001b[0;31m---------------------------------------------------------------------------\u001b[0m",
      "\u001b[0;31mTypeError\u001b[0m                                 Traceback (most recent call last)",
      "\u001b[0;32m<ipython-input-2-45e55b6321f5>\u001b[0m in \u001b[0;36m<module>\u001b[0;34m\u001b[0m\n\u001b[0;32m----> 1\u001b[0;31m \u001b[0;32mimport\u001b[0m \u001b[0mxarray\u001b[0m\u001b[0;34m\u001b[0m\u001b[0;34m\u001b[0m\u001b[0m\n\u001b[0m",
      "\u001b[0;32m~/.conda/envs/xmitgcm3/lib/python3.8/site-packages/xarray/__init__.py\u001b[0m in \u001b[0;36m<module>\u001b[0;34m\u001b[0m\n\u001b[0;32m----> 1\u001b[0;31m \u001b[0;32mfrom\u001b[0m \u001b[0;34m.\u001b[0m \u001b[0;32mimport\u001b[0m \u001b[0mtesting\u001b[0m\u001b[0;34m,\u001b[0m \u001b[0mtutorial\u001b[0m\u001b[0;34m\u001b[0m\u001b[0;34m\u001b[0m\u001b[0m\n\u001b[0m\u001b[1;32m      2\u001b[0m from .backends.api import (\n\u001b[1;32m      3\u001b[0m     \u001b[0mload_dataarray\u001b[0m\u001b[0;34m,\u001b[0m\u001b[0;34m\u001b[0m\u001b[0;34m\u001b[0m\u001b[0m\n\u001b[1;32m      4\u001b[0m     \u001b[0mload_dataset\u001b[0m\u001b[0;34m,\u001b[0m\u001b[0;34m\u001b[0m\u001b[0;34m\u001b[0m\u001b[0m\n\u001b[1;32m      5\u001b[0m     \u001b[0mopen_dataarray\u001b[0m\u001b[0;34m,\u001b[0m\u001b[0;34m\u001b[0m\u001b[0;34m\u001b[0m\u001b[0m\n",
      "\u001b[0;32m~/.conda/envs/xmitgcm3/lib/python3.8/site-packages/xarray/testing.py\u001b[0m in \u001b[0;36m<module>\u001b[0;34m\u001b[0m\n\u001b[1;32m      7\u001b[0m \u001b[0;32mimport\u001b[0m \u001b[0mpandas\u001b[0m \u001b[0;32mas\u001b[0m \u001b[0mpd\u001b[0m\u001b[0;34m\u001b[0m\u001b[0;34m\u001b[0m\u001b[0m\n\u001b[1;32m      8\u001b[0m \u001b[0;34m\u001b[0m\u001b[0m\n\u001b[0;32m----> 9\u001b[0;31m \u001b[0;32mfrom\u001b[0m \u001b[0mxarray\u001b[0m\u001b[0;34m.\u001b[0m\u001b[0mcore\u001b[0m \u001b[0;32mimport\u001b[0m \u001b[0mduck_array_ops\u001b[0m\u001b[0;34m,\u001b[0m \u001b[0mformatting\u001b[0m\u001b[0;34m,\u001b[0m \u001b[0mutils\u001b[0m\u001b[0;34m\u001b[0m\u001b[0;34m\u001b[0m\u001b[0m\n\u001b[0m\u001b[1;32m     10\u001b[0m \u001b[0;32mfrom\u001b[0m \u001b[0mxarray\u001b[0m\u001b[0;34m.\u001b[0m\u001b[0mcore\u001b[0m\u001b[0;34m.\u001b[0m\u001b[0mdataarray\u001b[0m \u001b[0;32mimport\u001b[0m \u001b[0mDataArray\u001b[0m\u001b[0;34m\u001b[0m\u001b[0;34m\u001b[0m\u001b[0m\n\u001b[1;32m     11\u001b[0m \u001b[0;32mfrom\u001b[0m \u001b[0mxarray\u001b[0m\u001b[0;34m.\u001b[0m\u001b[0mcore\u001b[0m\u001b[0;34m.\u001b[0m\u001b[0mdataset\u001b[0m \u001b[0;32mimport\u001b[0m \u001b[0mDataset\u001b[0m\u001b[0;34m\u001b[0m\u001b[0;34m\u001b[0m\u001b[0m\n",
      "\u001b[0;32m~/.conda/envs/xmitgcm3/lib/python3.8/site-packages/xarray/core/duck_array_ops.py\u001b[0m in \u001b[0;36m<module>\u001b[0;34m\u001b[0m\n\u001b[1;32m     24\u001b[0m \u001b[0;32mfrom\u001b[0m \u001b[0mnumpy\u001b[0m \u001b[0;32mimport\u001b[0m \u001b[0mwhere\u001b[0m \u001b[0;32mas\u001b[0m \u001b[0m_where\u001b[0m\u001b[0;34m\u001b[0m\u001b[0;34m\u001b[0m\u001b[0m\n\u001b[1;32m     25\u001b[0m \u001b[0;34m\u001b[0m\u001b[0m\n\u001b[0;32m---> 26\u001b[0;31m \u001b[0;32mfrom\u001b[0m \u001b[0;34m.\u001b[0m \u001b[0;32mimport\u001b[0m \u001b[0mdask_array_compat\u001b[0m\u001b[0;34m,\u001b[0m \u001b[0mdask_array_ops\u001b[0m\u001b[0;34m,\u001b[0m \u001b[0mdtypes\u001b[0m\u001b[0;34m,\u001b[0m \u001b[0mnpcompat\u001b[0m\u001b[0;34m,\u001b[0m \u001b[0mnputils\u001b[0m\u001b[0;34m\u001b[0m\u001b[0;34m\u001b[0m\u001b[0m\n\u001b[0m\u001b[1;32m     27\u001b[0m \u001b[0;32mfrom\u001b[0m \u001b[0;34m.\u001b[0m\u001b[0mnputils\u001b[0m \u001b[0;32mimport\u001b[0m \u001b[0mnanfirst\u001b[0m\u001b[0;34m,\u001b[0m \u001b[0mnanlast\u001b[0m\u001b[0;34m\u001b[0m\u001b[0;34m\u001b[0m\u001b[0m\n\u001b[1;32m     28\u001b[0m \u001b[0;32mfrom\u001b[0m \u001b[0;34m.\u001b[0m\u001b[0mpycompat\u001b[0m \u001b[0;32mimport\u001b[0m \u001b[0mcupy_array_type\u001b[0m\u001b[0;34m,\u001b[0m \u001b[0mdask_array_type\u001b[0m\u001b[0;34m,\u001b[0m \u001b[0mis_duck_dask_array\u001b[0m\u001b[0;34m\u001b[0m\u001b[0;34m\u001b[0m\u001b[0m\n",
      "\u001b[0;32m~/.conda/envs/xmitgcm3/lib/python3.8/site-packages/xarray/core/npcompat.py\u001b[0m in \u001b[0;36m<module>\u001b[0;34m\u001b[0m\n\u001b[1;32m     70\u001b[0m         \u001b[0mList\u001b[0m\u001b[0;34m[\u001b[0m\u001b[0mAny\u001b[0m\u001b[0;34m]\u001b[0m\u001b[0;34m,\u001b[0m\u001b[0;34m\u001b[0m\u001b[0;34m\u001b[0m\u001b[0m\n\u001b[1;32m     71\u001b[0m         \u001b[0;31m# anything with a dtype attribute\u001b[0m\u001b[0;34m\u001b[0m\u001b[0;34m\u001b[0m\u001b[0;34m\u001b[0m\u001b[0m\n\u001b[0;32m---> 72\u001b[0;31m         \u001b[0m_SupportsDType\u001b[0m\u001b[0;34m[\u001b[0m\u001b[0mnp\u001b[0m\u001b[0;34m.\u001b[0m\u001b[0mdtype\u001b[0m\u001b[0;34m]\u001b[0m\u001b[0;34m,\u001b[0m\u001b[0;34m\u001b[0m\u001b[0;34m\u001b[0m\u001b[0m\n\u001b[0m\u001b[1;32m     73\u001b[0m     ]\n\u001b[1;32m     74\u001b[0m \u001b[0;32mexcept\u001b[0m \u001b[0mImportError\u001b[0m\u001b[0;34m:\u001b[0m\u001b[0;34m\u001b[0m\u001b[0;34m\u001b[0m\u001b[0m\n",
      "\u001b[0;32m~/.conda/envs/xmitgcm3/lib/python3.8/typing.py\u001b[0m in \u001b[0;36minner\u001b[0;34m(*args, **kwds)\u001b[0m\n\u001b[1;32m    259\u001b[0m         \u001b[0;32mexcept\u001b[0m \u001b[0mTypeError\u001b[0m\u001b[0;34m:\u001b[0m\u001b[0;34m\u001b[0m\u001b[0;34m\u001b[0m\u001b[0m\n\u001b[1;32m    260\u001b[0m             \u001b[0;32mpass\u001b[0m  \u001b[0;31m# All real errors (not unhashable args) are raised below.\u001b[0m\u001b[0;34m\u001b[0m\u001b[0;34m\u001b[0m\u001b[0m\n\u001b[0;32m--> 261\u001b[0;31m         \u001b[0;32mreturn\u001b[0m \u001b[0mfunc\u001b[0m\u001b[0;34m(\u001b[0m\u001b[0;34m*\u001b[0m\u001b[0margs\u001b[0m\u001b[0;34m,\u001b[0m \u001b[0;34m**\u001b[0m\u001b[0mkwds\u001b[0m\u001b[0;34m)\u001b[0m\u001b[0;34m\u001b[0m\u001b[0;34m\u001b[0m\u001b[0m\n\u001b[0m\u001b[1;32m    262\u001b[0m     \u001b[0;32mreturn\u001b[0m \u001b[0minner\u001b[0m\u001b[0;34m\u001b[0m\u001b[0;34m\u001b[0m\u001b[0m\n\u001b[1;32m    263\u001b[0m \u001b[0;34m\u001b[0m\u001b[0m\n",
      "\u001b[0;32m~/.conda/envs/xmitgcm3/lib/python3.8/typing.py\u001b[0m in \u001b[0;36m__class_getitem__\u001b[0;34m(cls, params)\u001b[0m\n\u001b[1;32m    895\u001b[0m         \u001b[0;32melse\u001b[0m\u001b[0;34m:\u001b[0m\u001b[0;34m\u001b[0m\u001b[0;34m\u001b[0m\u001b[0m\n\u001b[1;32m    896\u001b[0m             \u001b[0;31m# Subscripting a regular Generic subclass.\u001b[0m\u001b[0;34m\u001b[0m\u001b[0;34m\u001b[0m\u001b[0;34m\u001b[0m\u001b[0m\n\u001b[0;32m--> 897\u001b[0;31m             \u001b[0m_check_generic\u001b[0m\u001b[0;34m(\u001b[0m\u001b[0mcls\u001b[0m\u001b[0;34m,\u001b[0m \u001b[0mparams\u001b[0m\u001b[0;34m)\u001b[0m\u001b[0;34m\u001b[0m\u001b[0;34m\u001b[0m\u001b[0m\n\u001b[0m\u001b[1;32m    898\u001b[0m         \u001b[0;32mreturn\u001b[0m \u001b[0m_GenericAlias\u001b[0m\u001b[0;34m(\u001b[0m\u001b[0mcls\u001b[0m\u001b[0;34m,\u001b[0m \u001b[0mparams\u001b[0m\u001b[0;34m)\u001b[0m\u001b[0;34m\u001b[0m\u001b[0;34m\u001b[0m\u001b[0m\n\u001b[1;32m    899\u001b[0m \u001b[0;34m\u001b[0m\u001b[0m\n",
      "\u001b[0;32m~/.conda/envs/xmitgcm3/lib/python3.8/typing.py\u001b[0m in \u001b[0;36m_check_generic\u001b[0;34m(cls, parameters)\u001b[0m\n\u001b[1;32m    209\u001b[0m     \"\"\"\n\u001b[1;32m    210\u001b[0m     \u001b[0;32mif\u001b[0m \u001b[0;32mnot\u001b[0m \u001b[0mcls\u001b[0m\u001b[0;34m.\u001b[0m\u001b[0m__parameters__\u001b[0m\u001b[0;34m:\u001b[0m\u001b[0;34m\u001b[0m\u001b[0;34m\u001b[0m\u001b[0m\n\u001b[0;32m--> 211\u001b[0;31m         \u001b[0;32mraise\u001b[0m \u001b[0mTypeError\u001b[0m\u001b[0;34m(\u001b[0m\u001b[0;34mf\"{cls} is not a generic class\"\u001b[0m\u001b[0;34m)\u001b[0m\u001b[0;34m\u001b[0m\u001b[0;34m\u001b[0m\u001b[0m\n\u001b[0m\u001b[1;32m    212\u001b[0m     \u001b[0malen\u001b[0m \u001b[0;34m=\u001b[0m \u001b[0mlen\u001b[0m\u001b[0;34m(\u001b[0m\u001b[0mparameters\u001b[0m\u001b[0;34m)\u001b[0m\u001b[0;34m\u001b[0m\u001b[0;34m\u001b[0m\u001b[0m\n\u001b[1;32m    213\u001b[0m     \u001b[0melen\u001b[0m \u001b[0;34m=\u001b[0m \u001b[0mlen\u001b[0m\u001b[0;34m(\u001b[0m\u001b[0mcls\u001b[0m\u001b[0;34m.\u001b[0m\u001b[0m__parameters__\u001b[0m\u001b[0;34m)\u001b[0m\u001b[0;34m\u001b[0m\u001b[0;34m\u001b[0m\u001b[0m\n",
      "\u001b[0;31mTypeError\u001b[0m: <class 'numpy.typing._dtype_like._SupportsDType'> is not a generic class"
     ]
    }
   ],
   "source": [
    "import xarray"
   ]
  },
  {
   "cell_type": "code",
   "execution_count": null,
   "id": "2bf173f5-f106-4557-abbc-c68a94de069b",
   "metadata": {},
   "outputs": [],
   "source": []
  }
 ],
 "metadata": {
  "kernelspec": {
   "display_name": "Python 3",
   "language": "python",
   "name": "python3"
  },
  "language_info": {
   "codemirror_mode": {
    "name": "ipython",
    "version": 3
   },
   "file_extension": ".py",
   "mimetype": "text/x-python",
   "name": "python",
   "nbconvert_exporter": "python",
   "pygments_lexer": "ipython3",
   "version": "3.8.10"
  }
 },
 "nbformat": 4,
 "nbformat_minor": 5
}
